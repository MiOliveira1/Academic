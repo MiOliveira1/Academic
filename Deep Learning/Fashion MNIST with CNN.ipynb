{
 "cells": [
  {
   "cell_type": "code",
   "execution_count": 1,
   "id": "6d833d7b",
   "metadata": {},
   "outputs": [],
   "source": [
    "import tensorflow as tf"
   ]
  },
  {
   "cell_type": "code",
   "execution_count": 2,
   "id": "1cb357ff",
   "metadata": {},
   "outputs": [
    {
     "name": "stdout",
     "output_type": "stream",
     "text": [
      "2.11.0\n"
     ]
    }
   ],
   "source": [
    "print(tf.__version__) # check tensorflow version"
   ]
  },
  {
   "cell_type": "markdown",
   "id": "8070af69",
   "metadata": {},
   "source": [
    "# 1. Load data"
   ]
  },
  {
   "cell_type": "code",
   "execution_count": 3,
   "id": "51c16c70",
   "metadata": {},
   "outputs": [],
   "source": [
    "# Load the Fashion-MNIST dataset\n",
    "fashion_mnist_data = tf.keras.datasets.fashion_mnist\n",
    "(train_images, train_labels), (test_images, test_labels) = fashion_mnist_data.load_data()"
   ]
  },
  {
   "cell_type": "code",
   "execution_count": 4,
   "id": "30a8633b",
   "metadata": {},
   "outputs": [
    {
     "name": "stdout",
     "output_type": "stream",
     "text": [
      "Train images shape  (60000, 28, 28)\n",
      "Test images shape  (10000, 28, 28)\n"
     ]
    }
   ],
   "source": [
    "# Show data shape\n",
    "print(\"Train images shape \", train_images.shape)\n",
    "print(\"Test images shape \", test_images.shape)"
   ]
  },
  {
   "cell_type": "code",
   "execution_count": 5,
   "id": "b18f9bc5",
   "metadata": {},
   "outputs": [
    {
     "name": "stdout",
     "output_type": "stream",
     "text": [
      " We have the following unique labels  {0, 1, 2, 3, 4, 5, 6, 7, 8, 9}\n"
     ]
    }
   ],
   "source": [
    "# Lets check the labels\n",
    "print(\" We have the following unique labels \", set(train_labels) )"
   ]
  },
  {
   "cell_type": "code",
   "execution_count": 6,
   "id": "fdd53c48",
   "metadata": {},
   "outputs": [],
   "source": [
    "# Lets finds the names from the website https://keras.io/api/datasets/fashion_mnist/\n",
    "labels = [\n",
    "    'T-shirt/top',\n",
    "    'Trouser',\n",
    "    'Pullover',\n",
    "    'Dress',\n",
    "    'Coat',\n",
    "    'Sandal',\n",
    "    'Shirt',\n",
    "    'Sneaker',\n",
    "    'Bag',\n",
    "    'Ankle boot'\n",
    "]"
   ]
  },
  {
   "cell_type": "markdown",
   "id": "cd958a05",
   "metadata": {},
   "source": [
    "# 2. Let's apply a min-max scaling"
   ]
  },
  {
   "cell_type": "code",
   "execution_count": 7,
   "id": "4ec487f4",
   "metadata": {},
   "outputs": [
    {
     "data": {
      "text/plain": [
       "255"
      ]
     },
     "execution_count": 7,
     "metadata": {},
     "output_type": "execute_result"
    }
   ],
   "source": [
    "import pandas as pd #para descobrir o máximo RGB fazemos este passo. Temos que correr outra vez \n",
    "pd.DataFrame(train_images[1,:,:]).max().max()"
   ]
  },
  {
   "cell_type": "code",
   "execution_count": 8,
   "id": "aa46dc81",
   "metadata": {},
   "outputs": [],
   "source": [
    "# each picture only has one chanel, ranging from 0 to n\n",
    "train_images = train_images / 255 #máximo RGB \n",
    "test_images = test_images / 255"
   ]
  },
  {
   "cell_type": "markdown",
   "id": "cfe941b7",
   "metadata": {},
   "source": [
    "# 3. Let's plot one image"
   ]
  },
  {
   "cell_type": "code",
   "execution_count": 9,
   "id": "935a5f30",
   "metadata": {},
   "outputs": [
    {
     "data": {
      "text/plain": [
       "'Ankle boot'"
      ]
     },
     "execution_count": 9,
     "metadata": {},
     "output_type": "execute_result"
    }
   ],
   "source": [
    "labels[train_labels[0]]"
   ]
  },
  {
   "cell_type": "code",
   "execution_count": 10,
   "id": "e281167b",
   "metadata": {},
   "outputs": [
    {
     "data": {
      "image/png": "[encoded data removed]",
      "text/plain": [
       "<Figure size 432x288 with 1 Axes>"
      ]
     },
     "metadata": {
      "needs_background": "light"
     },
     "output_type": "display_data"
    }
   ],
   "source": [
    "import matplotlib.pyplot as plt\n",
    "plt.imshow(train_images[0])\n",
    "plt.title(f\"This is a {labels[train_labels[0]]}\")\n",
    "plt.show()"
   ]
  },
  {
   "cell_type": "markdown",
   "id": "2845d1a9",
   "metadata": {},
   "source": [
    "# 4. Let's build the model"
   ]
  },
  {
   "cell_type": "code",
   "execution_count": 11,
   "id": "e63b41ce",
   "metadata": {},
   "outputs": [
    {
     "data": {
      "text/plain": [
       "(60000, 28, 28)"
      ]
     },
     "execution_count": 11,
     "metadata": {},
     "output_type": "execute_result"
    }
   ],
   "source": [
    "train_images.shape"
   ]
  },
  {
   "cell_type": "code",
   "execution_count": 12,
   "id": "5f334861",
   "metadata": {},
   "outputs": [
    {
     "data": {
      "text/plain": [
       "10"
      ]
     },
     "execution_count": 12,
     "metadata": {},
     "output_type": "execute_result"
    }
   ],
   "source": [
    "len(set(train_labels))"
   ]
  },
  {
   "cell_type": "code",
   "execution_count": 13,
   "id": "91e80044",
   "metadata": {},
   "outputs": [],
   "source": [
    "# Let's start by using a 2D conv  kernel (3x3) with 16 channels using a relu activation\n",
    "# Following a MaxPooling (3x3)\n",
    "# And a fully connected layers of 10 neurons i.e. 1 for each predicted label using a softmax for values between 0 and 1\n",
    "\n",
    "# CNN example here https://www.tensorflow.org/tutorials/images/cnn\n",
    "\n",
    "from tensorflow.keras.models import Sequential\n",
    "from tensorflow.keras.layers import Conv2D, MaxPooling2D, Dense, Flatten\n",
    "model = Sequential([\n",
    "    Conv2D(16, (3,3), activation='relu', input_shape=(28,28,1)), #16 - número de filtros e dimensão do filtro (3x3) e input shape em cima\n",
    "    MaxPooling2D((3,3)),\n",
    "    Flatten(),\n",
    "    Dense(10, activation='softmax') #10 neurons \n",
    "])"
   ]
  },
  {
   "cell_type": "markdown",
   "id": "fd310846",
   "metadata": {},
   "source": [
    "# 5. Let's print out the model summary"
   ]
  },
  {
   "cell_type": "code",
   "execution_count": 14,
   "id": "6ed1fa16",
   "metadata": {},
   "outputs": [
    {
     "name": "stdout",
     "output_type": "stream",
     "text": [
      "Model: \"sequential\"\n",
      "_________________________________________________________________\n",
      " Layer (type)                Output Shape              Param #   \n",
      "=================================================================\n",
      " conv2d (Conv2D)             (None, 26, 26, 16)        160       \n",
      "                                                                 \n",
      " max_pooling2d (MaxPooling2D  (None, 8, 8, 16)         0         \n",
      " )                                                               \n",
      "                                                                 \n",
      " flatten (Flatten)           (None, 1024)              0         \n",
      "                                                                 \n",
      " dense (Dense)               (None, 10)                10250     \n",
      "                                                                 \n",
      "=================================================================\n",
      "Total params: 10,410\n",
      "Trainable params: 10,410\n",
      "Non-trainable params: 0\n",
      "_________________________________________________________________\n"
     ]
    }
   ],
   "source": [
    "model.summary() #cálculos da aula 3*3*16+16 // 8*8*16=1024 "
   ]
  },
  {
   "cell_type": "markdown",
   "id": "db8e8bed",
   "metadata": {},
   "source": [
    "# 6. Let's compile the model"
   ]
  },
  {
   "cell_type": "code",
   "execution_count": 15,
   "id": "e88161aa",
   "metadata": {},
   "outputs": [],
   "source": [
    "# Since we have a multiclass problem we need to use a suitable loss function. In this case we choose **sparse_categorical_crossentropy**.\n",
    "# Check more info here https://www.tensorflow.org/api_docs/python/tf/keras/losses/SparseCategoricalCrossentropy\n",
    "# Case we had hot hot encoded our outputs, like we did in the MNIST dataset we would use **categorical_crossentropy**\n",
    "# Check more info here https://www.tensorflow.org/api_docs/python/tf/keras/losses/CategoricalCrossentropy\n",
    "\n",
    "#só podiamos usar a categorical_crossentropy se fizessemos antes o one hot encoding, então como não fizemos usamos a sparce_categorical_crossentropy\n",
    "\n",
    "model.compile(optimizer=\"adam\", loss=\"sparse_categorical_crossentropy\", metrics=['accuracy'])"
   ]
  },
  {
   "cell_type": "markdown",
   "id": "ecb80042",
   "metadata": {},
   "source": [
    "# 7. Fit the model"
   ]
  },
  {
   "cell_type": "code",
   "execution_count": 16,
   "id": "8613f730",
   "metadata": {},
   "outputs": [
    {
     "name": "stdout",
     "output_type": "stream",
     "text": [
      "Epoch 1/10\n",
      "90/90 [==============================] - 2s 14ms/step - loss: 1.2834 - accuracy: 0.5864 - val_loss: 0.7998 - val_accuracy: 0.7250\n",
      "Epoch 2/10\n",
      "90/90 [==============================] - 1s 11ms/step - loss: 0.7087 - accuracy: 0.7447 - val_loss: 0.6603 - val_accuracy: 0.7780\n",
      "Epoch 3/10\n",
      "90/90 [==============================] - 1s 11ms/step - loss: 0.6041 - accuracy: 0.7832 - val_loss: 0.5918 - val_accuracy: 0.7950\n",
      "Epoch 4/10\n",
      "90/90 [==============================] - 1s 13ms/step - loss: 0.5506 - accuracy: 0.7981 - val_loss: 0.5790 - val_accuracy: 0.7950\n",
      "Epoch 5/10\n",
      "90/90 [==============================] - 1s 13ms/step - loss: 0.5161 - accuracy: 0.8140 - val_loss: 0.5260 - val_accuracy: 0.8010\n",
      "Epoch 6/10\n",
      "90/90 [==============================] - 1s 14ms/step - loss: 0.4862 - accuracy: 0.8209 - val_loss: 0.5089 - val_accuracy: 0.8180\n",
      "Epoch 7/10\n",
      "90/90 [==============================] - 1s 10ms/step - loss: 0.4650 - accuracy: 0.8351 - val_loss: 0.4881 - val_accuracy: 0.8300\n",
      "Epoch 8/10\n",
      "90/90 [==============================] - 1s 12ms/step - loss: 0.4493 - accuracy: 0.8396 - val_loss: 0.4815 - val_accuracy: 0.8210\n",
      "Epoch 9/10\n",
      "90/90 [==============================] - 1s 11ms/step - loss: 0.4356 - accuracy: 0.8460 - val_loss: 0.4596 - val_accuracy: 0.8410\n",
      "Epoch 10/10\n",
      "90/90 [==============================] - 1s 14ms/step - loss: 0.4200 - accuracy: 0.8488 - val_loss: 0.4601 - val_accuracy: 0.8290\n"
     ]
    }
   ],
   "source": [
    "result = model.fit(train_images[:10000], train_labels[:10000], epochs=10, batch_size=100, validation_split=0.1)"
   ]
  },
  {
   "cell_type": "markdown",
   "id": "df5734fe",
   "metadata": {},
   "source": [
    "# 8. Let's add more layers"
   ]
  },
  {
   "cell_type": "code",
   "execution_count": 17,
   "id": "804d3aba",
   "metadata": {},
   "outputs": [
    {
     "data": {
      "text/plain": [
       "<matplotlib.legend.Legend at 0x22d66b63f40>"
      ]
     },
     "execution_count": 17,
     "metadata": {},
     "output_type": "execute_result"
    },
    {
     "data": {
      "image/png": "[encoded data removed]",
      "text/plain": [
       "<Figure size 432x288 with 1 Axes>"
      ]
     },
     "metadata": {
      "needs_background": "light"
     },
     "output_type": "display_data"
    }
   ],
   "source": [
    "plt.title('Learning Curves')\n",
    "plt.xlabel('Epoch')\n",
    "plt.ylabel('Loss')\n",
    "plt.plot(result.epoch, result.history[\"loss\"])\n",
    "plt.plot(result.history['val_loss'], label='val')\n",
    "plt.legend()"
   ]
  },
  {
   "cell_type": "markdown",
   "id": "9b33ba73",
   "metadata": {},
   "source": [
    "# 9. Vizualize layers"
   ]
  },
  {
   "cell_type": "code",
   "execution_count": 18,
   "id": "0b2dbf3c",
   "metadata": {},
   "outputs": [
    {
     "data": {
      "text/plain": [
       "[<keras.layers.convolutional.conv2d.Conv2D at 0x22d66895b50>,\n",
       " <keras.layers.pooling.max_pooling2d.MaxPooling2D at 0x22d668957c0>,\n",
       " <keras.layers.reshaping.flatten.Flatten at 0x22d668fc760>,\n",
       " <keras.layers.core.dense.Dense at 0x22d6698d460>]"
      ]
     },
     "execution_count": 18,
     "metadata": {},
     "output_type": "execute_result"
    }
   ],
   "source": [
    "# running model.layers it is possible to access all the internal layers of the model\n",
    "model.layers"
   ]
  },
  {
   "cell_type": "code",
   "execution_count": 19,
   "id": "f5587209",
   "metadata": {},
   "outputs": [],
   "source": [
    "# to capture the weights we do \n",
    "conv1_filters, conv1_biases = model.layers[0].get_weights()"
   ]
  },
  {
   "cell_type": "code",
   "execution_count": 20,
   "id": "f9c33347",
   "metadata": {},
   "outputs": [
    {
     "data": {
      "text/plain": [
       "(3, 3, 1, 16)"
      ]
     },
     "execution_count": 20,
     "metadata": {},
     "output_type": "execute_result"
    }
   ],
   "source": [
    "conv1_filters.shape #o que definimos em cima (3,3,16)"
   ]
  },
  {
   "cell_type": "code",
   "execution_count": 21,
   "id": "93ab5ed6",
   "metadata": {},
   "outputs": [],
   "source": [
    "# lets normalize filters \n",
    "# normalize filter values to 0-1 so we can visualize them\n",
    "f_min, f_max = conv1_filters.min(), conv1_filters.max()\n",
    "conv1_filters = (conv1_filters - f_min) / (f_max - f_min)"
   ]
  },
  {
   "cell_type": "code",
   "execution_count": 22,
   "id": "81c56109",
   "metadata": {},
   "outputs": [
    {
     "data": {
      "image/png": "[encoded data removed]",
      "text/plain": [
       "<Figure size 1080x1080 with 6 Axes>"
      ]
     },
     "metadata": {},
     "output_type": "display_data"
    }
   ],
   "source": [
    "import matplotlib.pyplot as plt \n",
    "# plot first 6 filters\n",
    "n_filters, ix = 6, 1\n",
    "fig, ax = plt.subplots(2, 3, figsize=(15,15))\n",
    "axs = ax.flat\n",
    "for i in range(n_filters):\n",
    "    # get the filter\n",
    "    f = conv1_filters[:, :, :, i]\n",
    "    # plot each channel separately\n",
    "    # specify subplot and turn of axis\n",
    "    \n",
    "    axs[i].set_xticks([])\n",
    "    axs[i].set_yticks([])\n",
    "    # plot filter channel in grayscale\n",
    "    axs[i].imshow(f, cmap='gray')\n",
    "    ix += 1\n",
    "# show the figure\n",
    "plt.show()"
   ]
  },
  {
   "cell_type": "markdown",
   "id": "000a985c",
   "metadata": {},
   "source": [
    "# 10. Let's create a bigger filter\n"
   ]
  },
  {
   "cell_type": "code",
   "execution_count": 53,
   "id": "2677a0bf",
   "metadata": {},
   "outputs": [],
   "source": [
    "# Let's start by using a 2D conv  kernel (5x5) with 16 channels using a relu activation\n",
    "# Following a MaxPooling (5x5)\n",
    "# And a fully connected layers of 10 neurons i.e. 1 for each predicted label using a softmax for values between 0 and 1\n",
    "\n",
    "# CNN example here https://www.tensorflow.org/tutorials/images/cnn\n",
    "\n",
    "from tensorflow.keras.models import Sequential\n",
    "from tensorflow.keras.layers import Conv2D, MaxPooling2D, Dense, Flatten\n",
    "model = Sequential([\n",
    "    Conv2D(16, (5,5), activation='relu', input_shape=(28,28,1)), #16 - número de filtros e dimensão do filtro (3x3) e input shape em cima\n",
    "    MaxPooling2D((5,5)),\n",
    "    Flatten(),\n",
    "    Dense(10, activation='softmax') #última rede - tem quer ser igual ao nº de classes - 10 \n",
    "])"
   ]
  },
  {
   "cell_type": "code",
   "execution_count": 54,
   "id": "b3262cc0",
   "metadata": {},
   "outputs": [
    {
     "name": "stdout",
     "output_type": "stream",
     "text": [
      "Model: \"sequential_6\"\n",
      "_________________________________________________________________\n",
      " Layer (type)                Output Shape              Param #   \n",
      "=================================================================\n",
      " conv2d_6 (Conv2D)           (None, 24, 24, 16)        416       \n",
      "                                                                 \n",
      " max_pooling2d_6 (MaxPooling  (None, 4, 4, 16)         0         \n",
      " 2D)                                                             \n",
      "                                                                 \n",
      " flatten_6 (Flatten)         (None, 256)               0         \n",
      "                                                                 \n",
      " dense_6 (Dense)             (None, 10)                2570      \n",
      "                                                                 \n",
      "=================================================================\n",
      "Total params: 2,986\n",
      "Trainable params: 2,986\n",
      "Non-trainable params: 0\n",
      "_________________________________________________________________\n"
     ]
    }
   ],
   "source": [
    "model.summary()"
   ]
  },
  {
   "cell_type": "code",
   "execution_count": 55,
   "id": "50fef118",
   "metadata": {},
   "outputs": [],
   "source": [
    "model.compile(optimizer=\"adam\", loss=\"sparse_categorical_crossentropy\", metrics=['accuracy'])"
   ]
  },
  {
   "cell_type": "code",
   "execution_count": 56,
   "id": "28a6adc9",
   "metadata": {},
   "outputs": [
    {
     "name": "stdout",
     "output_type": "stream",
     "text": [
      "Epoch 1/25\n",
      "90/90 [==============================] - 2s 17ms/step - loss: 1.7513 - accuracy: 0.5261 - val_loss: 1.1138 - val_accuracy: 0.6950\n",
      "Epoch 2/25\n",
      "90/90 [==============================] - 1s 16ms/step - loss: 0.8701 - accuracy: 0.7253 - val_loss: 0.7616 - val_accuracy: 0.7290\n",
      "Epoch 3/25\n",
      "90/90 [==============================] - 1s 17ms/step - loss: 0.6964 - accuracy: 0.7527 - val_loss: 0.6861 - val_accuracy: 0.7590\n",
      "Epoch 4/25\n",
      "90/90 [==============================] - 1s 17ms/step - loss: 0.6336 - accuracy: 0.7709 - val_loss: 0.6232 - val_accuracy: 0.7670\n",
      "Epoch 5/25\n",
      "90/90 [==============================] - 1s 16ms/step - loss: 0.5867 - accuracy: 0.7896 - val_loss: 0.5853 - val_accuracy: 0.7880\n",
      "Epoch 6/25\n",
      "90/90 [==============================] - 1s 16ms/step - loss: 0.5567 - accuracy: 0.7979 - val_loss: 0.5719 - val_accuracy: 0.7940\n",
      "Epoch 7/25\n",
      "90/90 [==============================] - 1s 16ms/step - loss: 0.5334 - accuracy: 0.8087 - val_loss: 0.5418 - val_accuracy: 0.8110\n",
      "Epoch 8/25\n",
      "90/90 [==============================] - 1s 16ms/step - loss: 0.5084 - accuracy: 0.8181 - val_loss: 0.5210 - val_accuracy: 0.8260\n",
      "Epoch 9/25\n",
      "90/90 [==============================] - 1s 12ms/step - loss: 0.4948 - accuracy: 0.8227 - val_loss: 0.5176 - val_accuracy: 0.8190\n",
      "Epoch 10/25\n",
      "90/90 [==============================] - 1s 15ms/step - loss: 0.4813 - accuracy: 0.8307 - val_loss: 0.4983 - val_accuracy: 0.8210\n",
      "Epoch 11/25\n",
      "90/90 [==============================] - 1s 15ms/step - loss: 0.4685 - accuracy: 0.8358 - val_loss: 0.4949 - val_accuracy: 0.8270\n",
      "Epoch 12/25\n",
      "90/90 [==============================] - 1s 16ms/step - loss: 0.4587 - accuracy: 0.8421 - val_loss: 0.4894 - val_accuracy: 0.8300\n",
      "Epoch 13/25\n",
      "90/90 [==============================] - 1s 14ms/step - loss: 0.4518 - accuracy: 0.8428 - val_loss: 0.4812 - val_accuracy: 0.8310\n",
      "Epoch 14/25\n",
      "90/90 [==============================] - 1s 16ms/step - loss: 0.4429 - accuracy: 0.8454 - val_loss: 0.4731 - val_accuracy: 0.8320\n",
      "Epoch 15/25\n",
      "90/90 [==============================] - 1s 16ms/step - loss: 0.4341 - accuracy: 0.8494 - val_loss: 0.4650 - val_accuracy: 0.8350\n",
      "Epoch 16/25\n",
      "90/90 [==============================] - 1s 16ms/step - loss: 0.4306 - accuracy: 0.8444 - val_loss: 0.4627 - val_accuracy: 0.8330\n",
      "Epoch 17/25\n",
      "90/90 [==============================] - 1s 15ms/step - loss: 0.4222 - accuracy: 0.8507 - val_loss: 0.4499 - val_accuracy: 0.8480\n",
      "Epoch 18/25\n",
      "90/90 [==============================] - 1s 16ms/step - loss: 0.4159 - accuracy: 0.8542 - val_loss: 0.4461 - val_accuracy: 0.8510\n",
      "Epoch 19/25\n",
      "90/90 [==============================] - 1s 16ms/step - loss: 0.4112 - accuracy: 0.8559 - val_loss: 0.4483 - val_accuracy: 0.8340\n",
      "Epoch 20/25\n",
      "90/90 [==============================] - 1s 17ms/step - loss: 0.4079 - accuracy: 0.8567 - val_loss: 0.4573 - val_accuracy: 0.8440\n",
      "Epoch 21/25\n",
      "90/90 [==============================] - 2s 17ms/step - loss: 0.4050 - accuracy: 0.8577 - val_loss: 0.4447 - val_accuracy: 0.8490\n",
      "Epoch 22/25\n",
      "90/90 [==============================] - 1s 13ms/step - loss: 0.3985 - accuracy: 0.8609 - val_loss: 0.4330 - val_accuracy: 0.8560\n",
      "Epoch 23/25\n",
      "90/90 [==============================] - 1s 16ms/step - loss: 0.3936 - accuracy: 0.8633 - val_loss: 0.4277 - val_accuracy: 0.8600\n",
      "Epoch 24/25\n",
      "90/90 [==============================] - 1s 16ms/step - loss: 0.3912 - accuracy: 0.8633 - val_loss: 0.4276 - val_accuracy: 0.8560\n",
      "Epoch 25/25\n",
      "90/90 [==============================] - 1s 16ms/step - loss: 0.3858 - accuracy: 0.8654 - val_loss: 0.4242 - val_accuracy: 0.8510\n"
     ]
    }
   ],
   "source": [
    "result = model.fit(train_images[:10000], train_labels[:10000], epochs=25, batch_size=100, validation_split=0.1)"
   ]
  },
  {
   "cell_type": "code",
   "execution_count": 57,
   "id": "a99e5983",
   "metadata": {},
   "outputs": [
    {
     "data": {
      "text/plain": [
       "<matplotlib.legend.Legend at 0x22d112a1c70>"
      ]
     },
     "execution_count": 57,
     "metadata": {},
     "output_type": "execute_result"
    },
    {
     "data": {
      "image/png": "[encoded data removed]",
      "text/plain": [
       "<Figure size 432x288 with 1 Axes>"
      ]
     },
     "metadata": {
      "needs_background": "light"
     },
     "output_type": "display_data"
    }
   ],
   "source": [
    "plt.title('Learning Curves')\n",
    "plt.xlabel('Epoch')\n",
    "plt.ylabel('Loss')\n",
    "plt.plot(result.epoch, result.history[\"loss\"])\n",
    "plt.plot(result.history['val_loss'], label='val')\n",
    "plt.legend()\n",
    "#accuracy baixa e loss alta, está em underfitting, podemos continuar a treinar o modelo. Aumentando a amostra e e número de epochs"
   ]
  },
  {
   "cell_type": "code",
   "execution_count": 58,
   "id": "0bee3b4c",
   "metadata": {},
   "outputs": [],
   "source": [
    "from tensorflow.keras.models import Sequential\n",
    "from tensorflow.keras.layers import Conv2D, MaxPooling2D, Dense, Flatten\n",
    "model = Sequential([\n",
    "    Conv2D(16, (5,5), activation='relu', input_shape=(28,28,1)), #16 - número de filtros e dimensão do filtro (3x3) e input shape em cima\n",
    "    MaxPooling2D((5,5)),\n",
    "    Flatten(),\n",
    "    Dense(10, activation='softmax') #última rede - tem quer ser igual ao nº de classes - 10 \n",
    "])"
   ]
  },
  {
   "cell_type": "code",
   "execution_count": 59,
   "id": "b5175286",
   "metadata": {},
   "outputs": [
    {
     "name": "stdout",
     "output_type": "stream",
     "text": [
      "Model: \"sequential_7\"\n",
      "_________________________________________________________________\n",
      " Layer (type)                Output Shape              Param #   \n",
      "=================================================================\n",
      " conv2d_7 (Conv2D)           (None, 24, 24, 16)        416       \n",
      "                                                                 \n",
      " max_pooling2d_7 (MaxPooling  (None, 4, 4, 16)         0         \n",
      " 2D)                                                             \n",
      "                                                                 \n",
      " flatten_7 (Flatten)         (None, 256)               0         \n",
      "                                                                 \n",
      " dense_7 (Dense)             (None, 10)                2570      \n",
      "                                                                 \n",
      "=================================================================\n",
      "Total params: 2,986\n",
      "Trainable params: 2,986\n",
      "Non-trainable params: 0\n",
      "_________________________________________________________________\n"
     ]
    }
   ],
   "source": [
    "model.summary()"
   ]
  },
  {
   "cell_type": "code",
   "execution_count": 60,
   "id": "13e5b440",
   "metadata": {},
   "outputs": [],
   "source": [
    "model.compile(optimizer=\"adam\", loss=\"sparse_categorical_crossentropy\", metrics=['accuracy'])"
   ]
  },
  {
   "cell_type": "code",
   "execution_count": 61,
   "id": "5a2ab8ef",
   "metadata": {},
   "outputs": [
    {
     "name": "stdout",
     "output_type": "stream",
     "text": [
      "Epoch 1/50\n",
      "450/450 [==============================] - 8s 16ms/step - loss: 0.9105 - accuracy: 0.7066 - val_loss: 0.6117 - val_accuracy: 0.7738\n",
      "Epoch 2/50\n",
      "450/450 [==============================] - 7s 15ms/step - loss: 0.5469 - accuracy: 0.8048 - val_loss: 0.5108 - val_accuracy: 0.8182\n",
      "Epoch 3/50\n",
      "450/450 [==============================] - 7s 16ms/step - loss: 0.4842 - accuracy: 0.8281 - val_loss: 0.4674 - val_accuracy: 0.8334\n",
      "Epoch 4/50\n",
      "450/450 [==============================] - 7s 16ms/step - loss: 0.4512 - accuracy: 0.8387 - val_loss: 0.4429 - val_accuracy: 0.8420\n",
      "Epoch 5/50\n",
      "450/450 [==============================] - 7s 16ms/step - loss: 0.4293 - accuracy: 0.8471 - val_loss: 0.4314 - val_accuracy: 0.8488\n",
      "Epoch 6/50\n",
      "450/450 [==============================] - 7s 16ms/step - loss: 0.4143 - accuracy: 0.8516 - val_loss: 0.4189 - val_accuracy: 0.8512\n",
      "Epoch 7/50\n",
      "450/450 [==============================] - 8s 17ms/step - loss: 0.4033 - accuracy: 0.8560 - val_loss: 0.4166 - val_accuracy: 0.8498\n",
      "Epoch 8/50\n",
      "450/450 [==============================] - 7s 16ms/step - loss: 0.3944 - accuracy: 0.8602 - val_loss: 0.4061 - val_accuracy: 0.8508\n",
      "Epoch 9/50\n",
      "450/450 [==============================] - 5s 12ms/step - loss: 0.3854 - accuracy: 0.8622 - val_loss: 0.3900 - val_accuracy: 0.8626\n",
      "Epoch 10/50\n",
      "450/450 [==============================] - 6s 12ms/step - loss: 0.3785 - accuracy: 0.8656 - val_loss: 0.3888 - val_accuracy: 0.8632\n",
      "Epoch 11/50\n",
      "450/450 [==============================] - 6s 13ms/step - loss: 0.3743 - accuracy: 0.8654 - val_loss: 0.3825 - val_accuracy: 0.8652\n",
      "Epoch 12/50\n",
      "450/450 [==============================] - 7s 15ms/step - loss: 0.3701 - accuracy: 0.8672 - val_loss: 0.3757 - val_accuracy: 0.8666\n",
      "Epoch 13/50\n",
      "450/450 [==============================] - 6s 13ms/step - loss: 0.3642 - accuracy: 0.8689 - val_loss: 0.3732 - val_accuracy: 0.8706\n",
      "Epoch 14/50\n",
      "450/450 [==============================] - 7s 15ms/step - loss: 0.3609 - accuracy: 0.8696 - val_loss: 0.3821 - val_accuracy: 0.8642\n",
      "Epoch 15/50\n",
      "450/450 [==============================] - 7s 15ms/step - loss: 0.3555 - accuracy: 0.8717 - val_loss: 0.3726 - val_accuracy: 0.8702\n",
      "Epoch 16/50\n",
      "450/450 [==============================] - 7s 15ms/step - loss: 0.3537 - accuracy: 0.8718 - val_loss: 0.3664 - val_accuracy: 0.8686\n",
      "Epoch 17/50\n",
      "450/450 [==============================] - 7s 15ms/step - loss: 0.3494 - accuracy: 0.8733 - val_loss: 0.3635 - val_accuracy: 0.8680\n",
      "Epoch 18/50\n",
      "450/450 [==============================] - 6s 14ms/step - loss: 0.3465 - accuracy: 0.8745 - val_loss: 0.3587 - val_accuracy: 0.8736\n",
      "Epoch 19/50\n",
      "450/450 [==============================] - 7s 15ms/step - loss: 0.3433 - accuracy: 0.8741 - val_loss: 0.3599 - val_accuracy: 0.8734\n",
      "Epoch 20/50\n",
      "450/450 [==============================] - 7s 15ms/step - loss: 0.3413 - accuracy: 0.8753 - val_loss: 0.3580 - val_accuracy: 0.8734\n",
      "Epoch 21/50\n",
      "450/450 [==============================] - 7s 15ms/step - loss: 0.3396 - accuracy: 0.8771 - val_loss: 0.3573 - val_accuracy: 0.8732\n",
      "Epoch 22/50\n",
      "450/450 [==============================] - 7s 15ms/step - loss: 0.3370 - accuracy: 0.8774 - val_loss: 0.3518 - val_accuracy: 0.8748\n",
      "Epoch 23/50\n",
      "450/450 [==============================] - 7s 15ms/step - loss: 0.3347 - accuracy: 0.8775 - val_loss: 0.3584 - val_accuracy: 0.8690\n",
      "Epoch 24/50\n",
      "450/450 [==============================] - 7s 15ms/step - loss: 0.3315 - accuracy: 0.8794 - val_loss: 0.3588 - val_accuracy: 0.8742\n",
      "Epoch 25/50\n",
      "450/450 [==============================] - 7s 16ms/step - loss: 0.3293 - accuracy: 0.8796 - val_loss: 0.3479 - val_accuracy: 0.8742\n",
      "Epoch 26/50\n",
      "450/450 [==============================] - 7s 16ms/step - loss: 0.3264 - accuracy: 0.8814 - val_loss: 0.3507 - val_accuracy: 0.8740\n",
      "Epoch 27/50\n",
      "450/450 [==============================] - 7s 15ms/step - loss: 0.3263 - accuracy: 0.8812 - val_loss: 0.3453 - val_accuracy: 0.8754\n",
      "Epoch 28/50\n",
      "450/450 [==============================] - 7s 16ms/step - loss: 0.3258 - accuracy: 0.8821 - val_loss: 0.3498 - val_accuracy: 0.8734\n",
      "Epoch 29/50\n",
      "450/450 [==============================] - 7s 15ms/step - loss: 0.3228 - accuracy: 0.8835 - val_loss: 0.3451 - val_accuracy: 0.8764\n",
      "Epoch 30/50\n",
      "450/450 [==============================] - 7s 15ms/step - loss: 0.3211 - accuracy: 0.8836 - val_loss: 0.3458 - val_accuracy: 0.8746\n",
      "Epoch 31/50\n",
      "450/450 [==============================] - 7s 15ms/step - loss: 0.3192 - accuracy: 0.8832 - val_loss: 0.3495 - val_accuracy: 0.8702\n",
      "Epoch 32/50\n",
      "450/450 [==============================] - 7s 15ms/step - loss: 0.3186 - accuracy: 0.8838 - val_loss: 0.3441 - val_accuracy: 0.8764\n",
      "Epoch 33/50\n",
      "450/450 [==============================] - 7s 15ms/step - loss: 0.3172 - accuracy: 0.8849 - val_loss: 0.3493 - val_accuracy: 0.8710\n",
      "Epoch 34/50\n",
      "450/450 [==============================] - 7s 15ms/step - loss: 0.3165 - accuracy: 0.8841 - val_loss: 0.3419 - val_accuracy: 0.8766\n",
      "Epoch 35/50\n",
      "450/450 [==============================] - 7s 15ms/step - loss: 0.3147 - accuracy: 0.8843 - val_loss: 0.3432 - val_accuracy: 0.8754\n",
      "Epoch 36/50\n",
      "450/450 [==============================] - 6s 14ms/step - loss: 0.3128 - accuracy: 0.8856 - val_loss: 0.3396 - val_accuracy: 0.8750\n",
      "Epoch 37/50\n",
      "450/450 [==============================] - 7s 15ms/step - loss: 0.3120 - accuracy: 0.8862 - val_loss: 0.3394 - val_accuracy: 0.8748\n",
      "Epoch 38/50\n",
      "450/450 [==============================] - 7s 15ms/step - loss: 0.3121 - accuracy: 0.8846 - val_loss: 0.3396 - val_accuracy: 0.8754\n",
      "Epoch 39/50\n",
      "450/450 [==============================] - 7s 15ms/step - loss: 0.3106 - accuracy: 0.8865 - val_loss: 0.3368 - val_accuracy: 0.8776\n",
      "Epoch 40/50\n",
      "450/450 [==============================] - 6s 14ms/step - loss: 0.3086 - accuracy: 0.8874 - val_loss: 0.3402 - val_accuracy: 0.8768\n",
      "Epoch 41/50\n",
      "450/450 [==============================] - 6s 14ms/step - loss: 0.3075 - accuracy: 0.8877 - val_loss: 0.3407 - val_accuracy: 0.8814\n",
      "Epoch 42/50\n",
      "450/450 [==============================] - 7s 16ms/step - loss: 0.3084 - accuracy: 0.8877 - val_loss: 0.3378 - val_accuracy: 0.8790\n",
      "Epoch 43/50\n",
      "450/450 [==============================] - 7s 16ms/step - loss: 0.3044 - accuracy: 0.8895 - val_loss: 0.3402 - val_accuracy: 0.8778\n",
      "Epoch 44/50\n",
      "450/450 [==============================] - 6s 14ms/step - loss: 0.3056 - accuracy: 0.8875 - val_loss: 0.3387 - val_accuracy: 0.8792\n",
      "Epoch 45/50\n",
      "450/450 [==============================] - 7s 15ms/step - loss: 0.3037 - accuracy: 0.8892 - val_loss: 0.3450 - val_accuracy: 0.8752\n",
      "Epoch 46/50\n",
      "450/450 [==============================] - 7s 15ms/step - loss: 0.3040 - accuracy: 0.8894 - val_loss: 0.3410 - val_accuracy: 0.8798\n",
      "Epoch 47/50\n",
      "450/450 [==============================] - 7s 15ms/step - loss: 0.3040 - accuracy: 0.8894 - val_loss: 0.3357 - val_accuracy: 0.8802\n",
      "Epoch 48/50\n",
      "450/450 [==============================] - 6s 14ms/step - loss: 0.3029 - accuracy: 0.8899 - val_loss: 0.3366 - val_accuracy: 0.8784\n",
      "Epoch 49/50\n",
      "450/450 [==============================] - 7s 15ms/step - loss: 0.3011 - accuracy: 0.8895 - val_loss: 0.3343 - val_accuracy: 0.8794\n",
      "Epoch 50/50\n",
      "450/450 [==============================] - 7s 16ms/step - loss: 0.3004 - accuracy: 0.8905 - val_loss: 0.3329 - val_accuracy: 0.8808\n"
     ]
    }
   ],
   "source": [
    "result = model.fit(train_images[:50000], train_labels[:50000], epochs=50, batch_size=100, validation_split=0.1) #aumentamos a amostra de para 50000 e aumento o nº de epochs para melhorar o modelo"
   ]
  },
  {
   "cell_type": "code",
   "execution_count": 62,
   "id": "8607621b",
   "metadata": {},
   "outputs": [
    {
     "data": {
      "text/plain": [
       "<matplotlib.legend.Legend at 0x22d095c5ac0>"
      ]
     },
     "execution_count": 62,
     "metadata": {},
     "output_type": "execute_result"
    },
    {
     "data": {
      "image/png": "[encoded data removed]",
      "text/plain": [
       "<Figure size 432x288 with 1 Axes>"
      ]
     },
     "metadata": {
      "needs_background": "light"
     },
     "output_type": "display_data"
    }
   ],
   "source": [
    "plt.title('Learning Curves')\n",
    "plt.xlabel('Epoch')\n",
    "plt.ylabel('Loss')\n",
    "plt.plot(result.epoch, result.history[\"loss\"])\n",
    "plt.plot(result.history['val_loss'], label='val')\n",
    "plt.legend()"
   ]
  },
  {
   "cell_type": "code",
   "execution_count": null,
   "id": "a8c37592",
   "metadata": {},
   "outputs": [],
   "source": []
  }
 ],
 "metadata": {
  "kernelspec": {
   "display_name": "Python 3 (ipykernel)",
   "language": "python",
   "name": "python3"
  },
  "language_info": {
   "codemirror_mode": {
    "name": "ipython",
    "version": 3
   },
   "file_extension": ".py",
   "mimetype": "text/x-python",
   "name": "python",
   "nbconvert_exporter": "python",
   "pygments_lexer": "ipython3",
   "version": "3.9.12"
  }
 },
 "nbformat": 4,
 "nbformat_minor": 5
}
