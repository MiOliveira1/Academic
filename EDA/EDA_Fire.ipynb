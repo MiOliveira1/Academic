{
 "cells": [
  {
   "cell_type": "markdown",
   "id": "9d0939e6",
   "metadata": {},
   "source": [
    "# Exercício Prático - melhoria_v3 (Milene Oliveira)"
   ]
  },
  {
   "cell_type": "markdown",
   "id": "c519fd8d",
   "metadata": {},
   "source": [
    "Importar as principais bibliotecas"
   ]
  },
  {
   "cell_type": "code",
   "execution_count": 1,
   "id": "2b603a45",
   "metadata": {},
   "outputs": [],
   "source": [
    "import numpy as np\n",
    "import pandas as pd\n",
    "import seaborn as sns\n",
    "import matplotlib.pyplot as plt"
   ]
  },
  {
   "cell_type": "markdown",
   "id": "f0d96c6b",
   "metadata": {},
   "source": [
    "Importar os dados "
   ]
  },
  {
   "cell_type": "code",
   "execution_count": 2,
   "id": "8c86d07d",
   "metadata": {},
   "outputs": [],
   "source": [
    "df = pd.read_csv('fire.csv')"
   ]
  },
  {
   "cell_type": "code",
   "execution_count": 3,
   "id": "66b6ce6c",
   "metadata": {},
   "outputs": [
    {
     "data": {
      "text/html": [
       "<div>\n",
       "<style scoped>\n",
       "    .dataframe tbody tr th:only-of-type {\n",
       "        vertical-align: middle;\n",
       "    }\n",
       "\n",
       "    .dataframe tbody tr th {\n",
       "        vertical-align: top;\n",
       "    }\n",
       "\n",
       "    .dataframe thead th {\n",
       "        text-align: right;\n",
       "    }\n",
       "</style>\n",
       "<table border=\"1\" class=\"dataframe\">\n",
       "  <thead>\n",
       "    <tr style=\"text-align: right;\">\n",
       "      <th></th>\n",
       "      <th>year</th>\n",
       "      <th>country</th>\n",
       "      <th>state</th>\n",
       "      <th>month</th>\n",
       "      <th>number</th>\n",
       "      <th>date</th>\n",
       "    </tr>\n",
       "  </thead>\n",
       "  <tbody>\n",
       "    <tr>\n",
       "      <th>0</th>\n",
       "      <td>2002</td>\n",
       "      <td>Brazil</td>\n",
       "      <td>Mato Grosso</td>\n",
       "      <td>Jun</td>\n",
       "      <td>517.0</td>\n",
       "      <td>1/1/2002</td>\n",
       "    </tr>\n",
       "    <tr>\n",
       "      <th>1</th>\n",
       "      <td>2005</td>\n",
       "      <td>Brazil</td>\n",
       "      <td>Bahia</td>\n",
       "      <td>Aug</td>\n",
       "      <td>948.0</td>\n",
       "      <td>1/1/2005</td>\n",
       "    </tr>\n",
       "    <tr>\n",
       "      <th>2</th>\n",
       "      <td>2010</td>\n",
       "      <td>Brazil</td>\n",
       "      <td>Amazonas</td>\n",
       "      <td>Apr</td>\n",
       "      <td>11.0</td>\n",
       "      <td>1/1/2010</td>\n",
       "    </tr>\n",
       "    <tr>\n",
       "      <th>3</th>\n",
       "      <td>2014</td>\n",
       "      <td>Brazil</td>\n",
       "      <td>Maranhao</td>\n",
       "      <td>Apr</td>\n",
       "      <td>78.0</td>\n",
       "      <td>1/1/2014</td>\n",
       "    </tr>\n",
       "    <tr>\n",
       "      <th>4</th>\n",
       "      <td>2001</td>\n",
       "      <td>Brazil</td>\n",
       "      <td>Sergipe</td>\n",
       "      <td>Mar</td>\n",
       "      <td>1.0</td>\n",
       "      <td>1/1/2001</td>\n",
       "    </tr>\n",
       "    <tr>\n",
       "      <th>...</th>\n",
       "      <td>...</td>\n",
       "      <td>...</td>\n",
       "      <td>...</td>\n",
       "      <td>...</td>\n",
       "      <td>...</td>\n",
       "      <td>...</td>\n",
       "    </tr>\n",
       "    <tr>\n",
       "      <th>6297</th>\n",
       "      <td>2015</td>\n",
       "      <td>Brazil</td>\n",
       "      <td>Maranhao</td>\n",
       "      <td>Sep</td>\n",
       "      <td>6423.0</td>\n",
       "      <td>1/1/2015</td>\n",
       "    </tr>\n",
       "    <tr>\n",
       "      <th>6298</th>\n",
       "      <td>2006</td>\n",
       "      <td>Brazil</td>\n",
       "      <td>Sao Paulo</td>\n",
       "      <td>Jul</td>\n",
       "      <td>245.0</td>\n",
       "      <td>1/1/2006</td>\n",
       "    </tr>\n",
       "    <tr>\n",
       "      <th>6299</th>\n",
       "      <td>2012</td>\n",
       "      <td>Brazil</td>\n",
       "      <td>Acre</td>\n",
       "      <td>Sep</td>\n",
       "      <td>1996.0</td>\n",
       "      <td>1/1/2012</td>\n",
       "    </tr>\n",
       "    <tr>\n",
       "      <th>6300</th>\n",
       "      <td>2006</td>\n",
       "      <td>Brazil</td>\n",
       "      <td>Sao Paulo</td>\n",
       "      <td>Oct</td>\n",
       "      <td>153.0</td>\n",
       "      <td>1/1/2006</td>\n",
       "    </tr>\n",
       "    <tr>\n",
       "      <th>6301</th>\n",
       "      <td>2013</td>\n",
       "      <td>Brazil</td>\n",
       "      <td>Amazonas</td>\n",
       "      <td>Aug</td>\n",
       "      <td>1276.0</td>\n",
       "      <td>1/1/2013</td>\n",
       "    </tr>\n",
       "  </tbody>\n",
       "</table>\n",
       "<p>6302 rows × 6 columns</p>\n",
       "</div>"
      ],
      "text/plain": [
       "      year country        state month  number      date\n",
       "0     2002  Brazil  Mato Grosso   Jun   517.0  1/1/2002\n",
       "1     2005  Brazil        Bahia   Aug   948.0  1/1/2005\n",
       "2     2010  Brazil     Amazonas   Apr    11.0  1/1/2010\n",
       "3     2014  Brazil     Maranhao   Apr    78.0  1/1/2014\n",
       "4     2001  Brazil      Sergipe   Mar     1.0  1/1/2001\n",
       "...    ...     ...          ...   ...     ...       ...\n",
       "6297  2015  Brazil     Maranhao   Sep  6423.0  1/1/2015\n",
       "6298  2006  Brazil    Sao Paulo   Jul   245.0  1/1/2006\n",
       "6299  2012  Brazil         Acre   Sep  1996.0  1/1/2012\n",
       "6300  2006  Brazil    Sao Paulo   Oct   153.0  1/1/2006\n",
       "6301  2013  Brazil     Amazonas   Aug  1276.0  1/1/2013\n",
       "\n",
       "[6302 rows x 6 columns]"
      ]
     },
     "execution_count": 3,
     "metadata": {},
     "output_type": "execute_result"
    }
   ],
   "source": [
    "df"
   ]
  },
  {
   "cell_type": "markdown",
   "id": "e31a07a4",
   "metadata": {},
   "source": [
    "# EDA "
   ]
  },
  {
   "cell_type": "markdown",
   "id": "7c4f68ff",
   "metadata": {},
   "source": [
    "Exploração inicial dos dados "
   ]
  },
  {
   "cell_type": "code",
   "execution_count": 4,
   "id": "bcfc2ed7",
   "metadata": {},
   "outputs": [
    {
     "data": {
      "text/plain": [
       "Index(['year', 'country', 'state', 'month', 'number', 'date'], dtype='object')"
      ]
     },
     "execution_count": 4,
     "metadata": {},
     "output_type": "execute_result"
    }
   ],
   "source": [
    "df.columns #nomes das colunas "
   ]
  },
  {
   "cell_type": "code",
   "execution_count": 5,
   "id": "086d665e",
   "metadata": {},
   "outputs": [
    {
     "name": "stdout",
     "output_type": "stream",
     "text": [
      "Número total de colunas é 6\n"
     ]
    }
   ],
   "source": [
    "print('Número total de colunas é', len(df.columns))"
   ]
  },
  {
   "cell_type": "code",
   "execution_count": 6,
   "id": "402322fe",
   "metadata": {},
   "outputs": [
    {
     "data": {
      "text/plain": [
       "year         int64\n",
       "country     object\n",
       "state       object\n",
       "month       object\n",
       "number     float64\n",
       "date        object\n",
       "dtype: object"
      ]
     },
     "execution_count": 6,
     "metadata": {},
     "output_type": "execute_result"
    }
   ],
   "source": [
    "df.dtypes #tipos de dados "
   ]
  },
  {
   "cell_type": "code",
   "execution_count": 7,
   "id": "dfe86245",
   "metadata": {},
   "outputs": [
    {
     "data": {
      "text/plain": [
       "array(['Brazil'], dtype=object)"
      ]
     },
     "execution_count": 7,
     "metadata": {},
     "output_type": "execute_result"
    }
   ],
   "source": [
    "df.loc[:, \"country\"].unique() #identificação das variáveis únicas na coluna \"country\""
   ]
  },
  {
   "cell_type": "markdown",
   "id": "c35bbe59",
   "metadata": {},
   "source": [
    "Verifica-se que a única variável da coluna \"country\" é o Brasil, pelo que concluo que a coluna é redundante "
   ]
  },
  {
   "cell_type": "markdown",
   "id": "ba67fd33",
   "metadata": {},
   "source": [
    "Por observação também se verifica que a coluna \"date\" somente varia no ano, pelo que é redundante com a coluna \"year\""
   ]
  },
  {
   "cell_type": "code",
   "execution_count": 8,
   "id": "024dd430",
   "metadata": {},
   "outputs": [],
   "source": [
    "df = df.drop(columns=['country', 'date']) #eliminação das colunas 'country' e 'date'"
   ]
  },
  {
   "cell_type": "code",
   "execution_count": 9,
   "id": "273cfb7a",
   "metadata": {},
   "outputs": [
    {
     "data": {
      "text/html": [
       "<div>\n",
       "<style scoped>\n",
       "    .dataframe tbody tr th:only-of-type {\n",
       "        vertical-align: middle;\n",
       "    }\n",
       "\n",
       "    .dataframe tbody tr th {\n",
       "        vertical-align: top;\n",
       "    }\n",
       "\n",
       "    .dataframe thead th {\n",
       "        text-align: right;\n",
       "    }\n",
       "</style>\n",
       "<table border=\"1\" class=\"dataframe\">\n",
       "  <thead>\n",
       "    <tr style=\"text-align: right;\">\n",
       "      <th></th>\n",
       "      <th>year</th>\n",
       "      <th>state</th>\n",
       "      <th>month</th>\n",
       "      <th>number</th>\n",
       "    </tr>\n",
       "  </thead>\n",
       "  <tbody>\n",
       "    <tr>\n",
       "      <th>0</th>\n",
       "      <td>2002</td>\n",
       "      <td>Mato Grosso</td>\n",
       "      <td>Jun</td>\n",
       "      <td>517.0</td>\n",
       "    </tr>\n",
       "    <tr>\n",
       "      <th>1</th>\n",
       "      <td>2005</td>\n",
       "      <td>Bahia</td>\n",
       "      <td>Aug</td>\n",
       "      <td>948.0</td>\n",
       "    </tr>\n",
       "    <tr>\n",
       "      <th>2</th>\n",
       "      <td>2010</td>\n",
       "      <td>Amazonas</td>\n",
       "      <td>Apr</td>\n",
       "      <td>11.0</td>\n",
       "    </tr>\n",
       "    <tr>\n",
       "      <th>3</th>\n",
       "      <td>2014</td>\n",
       "      <td>Maranhao</td>\n",
       "      <td>Apr</td>\n",
       "      <td>78.0</td>\n",
       "    </tr>\n",
       "    <tr>\n",
       "      <th>4</th>\n",
       "      <td>2001</td>\n",
       "      <td>Sergipe</td>\n",
       "      <td>Mar</td>\n",
       "      <td>1.0</td>\n",
       "    </tr>\n",
       "    <tr>\n",
       "      <th>...</th>\n",
       "      <td>...</td>\n",
       "      <td>...</td>\n",
       "      <td>...</td>\n",
       "      <td>...</td>\n",
       "    </tr>\n",
       "    <tr>\n",
       "      <th>6297</th>\n",
       "      <td>2015</td>\n",
       "      <td>Maranhao</td>\n",
       "      <td>Sep</td>\n",
       "      <td>6423.0</td>\n",
       "    </tr>\n",
       "    <tr>\n",
       "      <th>6298</th>\n",
       "      <td>2006</td>\n",
       "      <td>Sao Paulo</td>\n",
       "      <td>Jul</td>\n",
       "      <td>245.0</td>\n",
       "    </tr>\n",
       "    <tr>\n",
       "      <th>6299</th>\n",
       "      <td>2012</td>\n",
       "      <td>Acre</td>\n",
       "      <td>Sep</td>\n",
       "      <td>1996.0</td>\n",
       "    </tr>\n",
       "    <tr>\n",
       "      <th>6300</th>\n",
       "      <td>2006</td>\n",
       "      <td>Sao Paulo</td>\n",
       "      <td>Oct</td>\n",
       "      <td>153.0</td>\n",
       "    </tr>\n",
       "    <tr>\n",
       "      <th>6301</th>\n",
       "      <td>2013</td>\n",
       "      <td>Amazonas</td>\n",
       "      <td>Aug</td>\n",
       "      <td>1276.0</td>\n",
       "    </tr>\n",
       "  </tbody>\n",
       "</table>\n",
       "<p>6302 rows × 4 columns</p>\n",
       "</div>"
      ],
      "text/plain": [
       "      year        state month  number\n",
       "0     2002  Mato Grosso   Jun   517.0\n",
       "1     2005        Bahia   Aug   948.0\n",
       "2     2010     Amazonas   Apr    11.0\n",
       "3     2014     Maranhao   Apr    78.0\n",
       "4     2001      Sergipe   Mar     1.0\n",
       "...    ...          ...   ...     ...\n",
       "6297  2015     Maranhao   Sep  6423.0\n",
       "6298  2006    Sao Paulo   Jul   245.0\n",
       "6299  2012         Acre   Sep  1996.0\n",
       "6300  2006    Sao Paulo   Oct   153.0\n",
       "6301  2013     Amazonas   Aug  1276.0\n",
       "\n",
       "[6302 rows x 4 columns]"
      ]
     },
     "execution_count": 9,
     "metadata": {},
     "output_type": "execute_result"
    }
   ],
   "source": [
    "df #verificação "
   ]
  },
  {
   "cell_type": "markdown",
   "id": "2113ee2b",
   "metadata": {},
   "source": [
    "Fazer alguns histogramas para ver a distribuição dos dados "
   ]
  },
  {
   "cell_type": "code",
   "execution_count": 10,
   "id": "e3edc845",
   "metadata": {},
   "outputs": [],
   "source": [
    "columns = df.columns"
   ]
  },
  {
   "cell_type": "code",
   "execution_count": 11,
   "id": "5170b91a",
   "metadata": {},
   "outputs": [
    {
     "data": {
      "image/png": "[encoded data removed]",
      "text/plain": [
       "<Figure size 432x288 with 1 Axes>"
      ]
     },
     "metadata": {
      "needs_background": "light"
     },
     "output_type": "display_data"
    },
    {
     "data": {
      "image/png": "[encoded data removed]",
      "text/plain": [
       "<Figure size 432x288 with 1 Axes>"
      ]
     },
     "metadata": {
      "needs_background": "light"
     },
     "output_type": "display_data"
    },
    {
     "data": {
      "image/png": "[encoded data removed]",
      "text/plain": [
       "<Figure size 432x288 with 1 Axes>"
      ]
     },
     "metadata": {
      "needs_background": "light"
     },
     "output_type": "display_data"
    },
    {
     "data": {
      "image/png": "[encoded data removed]",
      "text/plain": [
       "<Figure size 432x288 with 1 Axes>"
      ]
     },
     "metadata": {
      "needs_background": "light"
     },
     "output_type": "display_data"
    }
   ],
   "source": [
    "for col in columns:\n",
    "    plt.hist(x=df[col])\n",
    "    plt.title(col)\n",
    "    plt.show()"
   ]
  },
  {
   "cell_type": "code",
   "execution_count": 12,
   "id": "18d219f4",
   "metadata": {},
   "outputs": [
    {
     "data": {
      "text/html": [
       "<div>\n",
       "<style scoped>\n",
       "    .dataframe tbody tr th:only-of-type {\n",
       "        vertical-align: middle;\n",
       "    }\n",
       "\n",
       "    .dataframe tbody tr th {\n",
       "        vertical-align: top;\n",
       "    }\n",
       "\n",
       "    .dataframe thead th {\n",
       "        text-align: right;\n",
       "    }\n",
       "</style>\n",
       "<table border=\"1\" class=\"dataframe\">\n",
       "  <thead>\n",
       "    <tr style=\"text-align: right;\">\n",
       "      <th></th>\n",
       "      <th>year</th>\n",
       "      <th>number</th>\n",
       "    </tr>\n",
       "  </thead>\n",
       "  <tbody>\n",
       "    <tr>\n",
       "      <th>count</th>\n",
       "      <td>6302.000000</td>\n",
       "      <td>6290.000000</td>\n",
       "    </tr>\n",
       "    <tr>\n",
       "      <th>mean</th>\n",
       "      <td>2007.472866</td>\n",
       "      <td>584.367409</td>\n",
       "    </tr>\n",
       "    <tr>\n",
       "      <th>std</th>\n",
       "      <td>5.752539</td>\n",
       "      <td>4382.591434</td>\n",
       "    </tr>\n",
       "    <tr>\n",
       "      <th>min</th>\n",
       "      <td>1998.000000</td>\n",
       "      <td>0.000000</td>\n",
       "    </tr>\n",
       "    <tr>\n",
       "      <th>25%</th>\n",
       "      <td>2002.000000</td>\n",
       "      <td>8.000000</td>\n",
       "    </tr>\n",
       "    <tr>\n",
       "      <th>50%</th>\n",
       "      <td>2007.000000</td>\n",
       "      <td>54.000000</td>\n",
       "    </tr>\n",
       "    <tr>\n",
       "      <th>75%</th>\n",
       "      <td>2012.000000</td>\n",
       "      <td>278.000000</td>\n",
       "    </tr>\n",
       "    <tr>\n",
       "      <th>max</th>\n",
       "      <td>2017.000000</td>\n",
       "      <td>325000.000000</td>\n",
       "    </tr>\n",
       "  </tbody>\n",
       "</table>\n",
       "</div>"
      ],
      "text/plain": [
       "              year         number\n",
       "count  6302.000000    6290.000000\n",
       "mean   2007.472866     584.367409\n",
       "std       5.752539    4382.591434\n",
       "min    1998.000000       0.000000\n",
       "25%    2002.000000       8.000000\n",
       "50%    2007.000000      54.000000\n",
       "75%    2012.000000     278.000000\n",
       "max    2017.000000  325000.000000"
      ]
     },
     "execution_count": 12,
     "metadata": {},
     "output_type": "execute_result"
    }
   ],
   "source": [
    "df.describe()"
   ]
  },
  {
   "cell_type": "markdown",
   "id": "10f27f69",
   "metadata": {},
   "source": [
    "Consegue-se perceber que existem nulos na coluna 'number' e que o máximo da coluna 'number' parece estanhamente elevado. Próximo passo será verificar se existem nulos e se este dado é um outlier. "
   ]
  },
  {
   "cell_type": "code",
   "execution_count": 13,
   "id": "5fd4f89d",
   "metadata": {},
   "outputs": [
    {
     "data": {
      "text/plain": [
       "year       0\n",
       "state      0\n",
       "month      0\n",
       "number    12\n",
       "dtype: int64"
      ]
     },
     "execution_count": 13,
     "metadata": {},
     "output_type": "execute_result"
    }
   ],
   "source": [
    "df.isnull().sum() #verificação de nulos "
   ]
  },
  {
   "cell_type": "markdown",
   "id": "9af92e42",
   "metadata": {},
   "source": [
    "Temos 12 nulos na coluna 'number'"
   ]
  },
  {
   "cell_type": "code",
   "execution_count": 14,
   "id": "5712e784",
   "metadata": {},
   "outputs": [
    {
     "name": "stderr",
     "output_type": "stream",
     "text": [
      "C:\\Users\\PTL14736\\Anaconda3\\lib\\site-packages\\seaborn\\_decorators.py:36: FutureWarning: Pass the following variables as keyword args: x, y. From version 0.12, the only valid positional argument will be `data`, and passing other arguments without an explicit keyword will result in an error or misinterpretation.\n",
      "  warnings.warn(\n"
     ]
    },
    {
     "data": {
      "text/plain": [
       "<AxesSubplot:xlabel='number', ylabel='year'>"
      ]
     },
     "execution_count": 14,
     "metadata": {},
     "output_type": "execute_result"
    },
    {
     "data": {
      "image/png": "[encoded data removed]",
      "text/plain": [
       "<Figure size 432x288 with 1 Axes>"
      ]
     },
     "metadata": {
      "needs_background": "light"
     },
     "output_type": "display_data"
    }
   ],
   "source": [
    "sns.scatterplot(df['number'], df['year']) "
   ]
  },
  {
   "cell_type": "code",
   "execution_count": 15,
   "id": "e6388ed8",
   "metadata": {},
   "outputs": [
    {
     "name": "stdout",
     "output_type": "stream",
     "text": [
      "1088\n"
     ]
    }
   ],
   "source": [
    "Q3 = 278\n",
    "Q1 = 8 \n",
    "IQR = Q3 - Q1 \n",
    "result = Q3 + (3*IQR) \n",
    "print(result)"
   ]
  },
  {
   "cell_type": "markdown",
   "id": "959d81d1",
   "metadata": {},
   "source": [
    "Através deste gráfico e cálculos acima conclui-se que este dado é um extreme value porque é superior a Q3+3IQR"
   ]
  },
  {
   "cell_type": "markdown",
   "id": "e1daa101",
   "metadata": {},
   "source": [
    "# Substituição de nulos e Extreme Value"
   ]
  },
  {
   "cell_type": "code",
   "execution_count": 16,
   "id": "2068b026",
   "metadata": {},
   "outputs": [
    {
     "name": "stdout",
     "output_type": "stream",
     "text": [
      "A mediana é 54.0\n"
     ]
    }
   ],
   "source": [
    "median_number = df['number'].median() #cálculo da mediana da coluna number \n",
    "print('A mediana é', median_number)"
   ]
  },
  {
   "cell_type": "code",
   "execution_count": 17,
   "id": "50be7e33",
   "metadata": {},
   "outputs": [],
   "source": [
    "df.iloc[:,3:4] = df.iloc[:,3:4].replace(np.nan,54) #substituição dos nulos pela mediana  "
   ]
  },
  {
   "cell_type": "code",
   "execution_count": 18,
   "id": "ff4afab5",
   "metadata": {},
   "outputs": [
    {
     "data": {
      "text/plain": [
       "year      0\n",
       "state     0\n",
       "month     0\n",
       "number    0\n",
       "dtype: int64"
      ]
     },
     "execution_count": 18,
     "metadata": {},
     "output_type": "execute_result"
    }
   ],
   "source": [
    "df.isnull().sum() #verificação  "
   ]
  },
  {
   "cell_type": "code",
   "execution_count": 19,
   "id": "8672c373",
   "metadata": {},
   "outputs": [
    {
     "data": {
      "text/plain": [
       "(array([5322], dtype=int64),)"
      ]
     },
     "execution_count": 19,
     "metadata": {},
     "output_type": "execute_result"
    }
   ],
   "source": [
    "np.where(df['number']==325000) #localização do extreme value  "
   ]
  },
  {
   "cell_type": "code",
   "execution_count": 20,
   "id": "668fe5ff",
   "metadata": {},
   "outputs": [],
   "source": [
    "df.iloc[:,3:4] = df.iloc[:,3:4].replace(325000,54) #substituição do extreme value pela mediana"
   ]
  },
  {
   "cell_type": "code",
   "execution_count": 78,
   "id": "a911929a",
   "metadata": {},
   "outputs": [
    {
     "data": {
      "text/html": [
       "<div>\n",
       "<style scoped>\n",
       "    .dataframe tbody tr th:only-of-type {\n",
       "        vertical-align: middle;\n",
       "    }\n",
       "\n",
       "    .dataframe tbody tr th {\n",
       "        vertical-align: top;\n",
       "    }\n",
       "\n",
       "    .dataframe thead th {\n",
       "        text-align: right;\n",
       "    }\n",
       "</style>\n",
       "<table border=\"1\" class=\"dataframe\">\n",
       "  <thead>\n",
       "    <tr style=\"text-align: right;\">\n",
       "      <th></th>\n",
       "      <th>year</th>\n",
       "      <th>number</th>\n",
       "    </tr>\n",
       "  </thead>\n",
       "  <tbody>\n",
       "    <tr>\n",
       "      <th>count</th>\n",
       "      <td>6302.000000</td>\n",
       "      <td>6302.000000</td>\n",
       "    </tr>\n",
       "    <tr>\n",
       "      <th>mean</th>\n",
       "      <td>2007.472866</td>\n",
       "      <td>531.795144</td>\n",
       "    </tr>\n",
       "    <tr>\n",
       "      <th>std</th>\n",
       "      <td>5.752539</td>\n",
       "      <td>1570.146650</td>\n",
       "    </tr>\n",
       "    <tr>\n",
       "      <th>min</th>\n",
       "      <td>1998.000000</td>\n",
       "      <td>0.000000</td>\n",
       "    </tr>\n",
       "    <tr>\n",
       "      <th>25%</th>\n",
       "      <td>2002.000000</td>\n",
       "      <td>8.000000</td>\n",
       "    </tr>\n",
       "    <tr>\n",
       "      <th>50%</th>\n",
       "      <td>2007.000000</td>\n",
       "      <td>54.000000</td>\n",
       "    </tr>\n",
       "    <tr>\n",
       "      <th>75%</th>\n",
       "      <td>2012.000000</td>\n",
       "      <td>276.750000</td>\n",
       "    </tr>\n",
       "    <tr>\n",
       "      <th>max</th>\n",
       "      <td>2017.000000</td>\n",
       "      <td>25963.000000</td>\n",
       "    </tr>\n",
       "  </tbody>\n",
       "</table>\n",
       "</div>"
      ],
      "text/plain": [
       "              year        number\n",
       "count  6302.000000   6302.000000\n",
       "mean   2007.472866    531.795144\n",
       "std       5.752539   1570.146650\n",
       "min    1998.000000      0.000000\n",
       "25%    2002.000000      8.000000\n",
       "50%    2007.000000     54.000000\n",
       "75%    2012.000000    276.750000\n",
       "max    2017.000000  25963.000000"
      ]
     },
     "execution_count": 78,
     "metadata": {},
     "output_type": "execute_result"
    }
   ],
   "source": [
    "df.describe() #verificação "
   ]
  },
  {
   "cell_type": "markdown",
   "id": "e8af2dfb",
   "metadata": {},
   "source": [
    "# Tratamento das variáveis "
   ]
  },
  {
   "cell_type": "code",
   "execution_count": 21,
   "id": "b2becd7e",
   "metadata": {},
   "outputs": [
    {
     "data": {
      "text/plain": [
       "year        int64\n",
       "state      object\n",
       "month      object\n",
       "number    float64\n",
       "dtype: object"
      ]
     },
     "execution_count": 21,
     "metadata": {},
     "output_type": "execute_result"
    }
   ],
   "source": [
    "df.dtypes"
   ]
  },
  {
   "cell_type": "code",
   "execution_count": 22,
   "id": "62c28936",
   "metadata": {},
   "outputs": [
    {
     "data": {
      "text/plain": [
       "array(['Jun', 'Aug', 'Apr', 'Mar', 'May', 'Jul', 'Sep', 'Nov', 'Jan',\n",
       "       'Oct', 'Dez', 'Feb'], dtype=object)"
      ]
     },
     "execution_count": 22,
     "metadata": {},
     "output_type": "execute_result"
    }
   ],
   "source": [
    "df.loc[:, 'month'].unique()"
   ]
  },
  {
   "cell_type": "markdown",
   "id": "bcdefb3e",
   "metadata": {},
   "source": [
    "Verifica-se que 'Dez' está mal escrito - deveria ser Dec e que é necessário encodar os dados para ao fazer gráficos ser possível ordenar por ordem cronológica. "
   ]
  },
  {
   "cell_type": "code",
   "execution_count": 23,
   "id": "8f3823b0",
   "metadata": {},
   "outputs": [],
   "source": [
    "df.iloc[:,2:3] = df.iloc[:,2:3].replace('Dez','Dec') #substituição de Dez por Dec"
   ]
  },
  {
   "cell_type": "code",
   "execution_count": 24,
   "id": "83af416e",
   "metadata": {},
   "outputs": [
    {
     "data": {
      "text/plain": [
       "array(['Jun', 'Aug', 'Apr', 'Mar', 'May', 'Jul', 'Sep', 'Nov', 'Jan',\n",
       "       'Oct', 'Dec', 'Feb'], dtype=object)"
      ]
     },
     "execution_count": 24,
     "metadata": {},
     "output_type": "execute_result"
    }
   ],
   "source": [
    "df.loc[:, 'month'].unique() #verificação "
   ]
  },
  {
   "cell_type": "code",
   "execution_count": 25,
   "id": "75edac72",
   "metadata": {},
   "outputs": [],
   "source": [
    "month = {'Jan':1, 'Feb':2, 'Mar':3, 'Apr':4, 'May':5, 'Jun':6, 'Jul':7, 'Aug':8, 'Sep':9, 'Oct':10, 'Nov':11, 'Dez':12} #criação de dicionário para relacionar Meses com números "
   ]
  },
  {
   "cell_type": "code",
   "execution_count": 26,
   "id": "6edf8f11",
   "metadata": {},
   "outputs": [],
   "source": [
    "df['date'] = '1' + '-'+ df['month'] + '-' + df['year'].astype(str) #junção das colunas Ano e Mês numa só coluna"
   ]
  },
  {
   "cell_type": "code",
   "execution_count": 27,
   "id": "2bfbf30e",
   "metadata": {},
   "outputs": [
    {
     "data": {
      "text/html": [
       "<div>\n",
       "<style scoped>\n",
       "    .dataframe tbody tr th:only-of-type {\n",
       "        vertical-align: middle;\n",
       "    }\n",
       "\n",
       "    .dataframe tbody tr th {\n",
       "        vertical-align: top;\n",
       "    }\n",
       "\n",
       "    .dataframe thead th {\n",
       "        text-align: right;\n",
       "    }\n",
       "</style>\n",
       "<table border=\"1\" class=\"dataframe\">\n",
       "  <thead>\n",
       "    <tr style=\"text-align: right;\">\n",
       "      <th></th>\n",
       "      <th>year</th>\n",
       "      <th>state</th>\n",
       "      <th>month</th>\n",
       "      <th>number</th>\n",
       "      <th>date</th>\n",
       "    </tr>\n",
       "  </thead>\n",
       "  <tbody>\n",
       "    <tr>\n",
       "      <th>0</th>\n",
       "      <td>2002</td>\n",
       "      <td>Mato Grosso</td>\n",
       "      <td>Jun</td>\n",
       "      <td>517.0</td>\n",
       "      <td>1-Jun-2002</td>\n",
       "    </tr>\n",
       "    <tr>\n",
       "      <th>1</th>\n",
       "      <td>2005</td>\n",
       "      <td>Bahia</td>\n",
       "      <td>Aug</td>\n",
       "      <td>948.0</td>\n",
       "      <td>1-Aug-2005</td>\n",
       "    </tr>\n",
       "    <tr>\n",
       "      <th>2</th>\n",
       "      <td>2010</td>\n",
       "      <td>Amazonas</td>\n",
       "      <td>Apr</td>\n",
       "      <td>11.0</td>\n",
       "      <td>1-Apr-2010</td>\n",
       "    </tr>\n",
       "    <tr>\n",
       "      <th>3</th>\n",
       "      <td>2014</td>\n",
       "      <td>Maranhao</td>\n",
       "      <td>Apr</td>\n",
       "      <td>78.0</td>\n",
       "      <td>1-Apr-2014</td>\n",
       "    </tr>\n",
       "    <tr>\n",
       "      <th>4</th>\n",
       "      <td>2001</td>\n",
       "      <td>Sergipe</td>\n",
       "      <td>Mar</td>\n",
       "      <td>1.0</td>\n",
       "      <td>1-Mar-2001</td>\n",
       "    </tr>\n",
       "    <tr>\n",
       "      <th>...</th>\n",
       "      <td>...</td>\n",
       "      <td>...</td>\n",
       "      <td>...</td>\n",
       "      <td>...</td>\n",
       "      <td>...</td>\n",
       "    </tr>\n",
       "    <tr>\n",
       "      <th>6297</th>\n",
       "      <td>2015</td>\n",
       "      <td>Maranhao</td>\n",
       "      <td>Sep</td>\n",
       "      <td>6423.0</td>\n",
       "      <td>1-Sep-2015</td>\n",
       "    </tr>\n",
       "    <tr>\n",
       "      <th>6298</th>\n",
       "      <td>2006</td>\n",
       "      <td>Sao Paulo</td>\n",
       "      <td>Jul</td>\n",
       "      <td>245.0</td>\n",
       "      <td>1-Jul-2006</td>\n",
       "    </tr>\n",
       "    <tr>\n",
       "      <th>6299</th>\n",
       "      <td>2012</td>\n",
       "      <td>Acre</td>\n",
       "      <td>Sep</td>\n",
       "      <td>1996.0</td>\n",
       "      <td>1-Sep-2012</td>\n",
       "    </tr>\n",
       "    <tr>\n",
       "      <th>6300</th>\n",
       "      <td>2006</td>\n",
       "      <td>Sao Paulo</td>\n",
       "      <td>Oct</td>\n",
       "      <td>153.0</td>\n",
       "      <td>1-Oct-2006</td>\n",
       "    </tr>\n",
       "    <tr>\n",
       "      <th>6301</th>\n",
       "      <td>2013</td>\n",
       "      <td>Amazonas</td>\n",
       "      <td>Aug</td>\n",
       "      <td>1276.0</td>\n",
       "      <td>1-Aug-2013</td>\n",
       "    </tr>\n",
       "  </tbody>\n",
       "</table>\n",
       "<p>6302 rows × 5 columns</p>\n",
       "</div>"
      ],
      "text/plain": [
       "      year        state month  number        date\n",
       "0     2002  Mato Grosso   Jun   517.0  1-Jun-2002\n",
       "1     2005        Bahia   Aug   948.0  1-Aug-2005\n",
       "2     2010     Amazonas   Apr    11.0  1-Apr-2010\n",
       "3     2014     Maranhao   Apr    78.0  1-Apr-2014\n",
       "4     2001      Sergipe   Mar     1.0  1-Mar-2001\n",
       "...    ...          ...   ...     ...         ...\n",
       "6297  2015     Maranhao   Sep  6423.0  1-Sep-2015\n",
       "6298  2006    Sao Paulo   Jul   245.0  1-Jul-2006\n",
       "6299  2012         Acre   Sep  1996.0  1-Sep-2012\n",
       "6300  2006    Sao Paulo   Oct   153.0  1-Oct-2006\n",
       "6301  2013     Amazonas   Aug  1276.0  1-Aug-2013\n",
       "\n",
       "[6302 rows x 5 columns]"
      ]
     },
     "execution_count": 27,
     "metadata": {},
     "output_type": "execute_result"
    }
   ],
   "source": [
    "df #verificação "
   ]
  },
  {
   "cell_type": "code",
   "execution_count": 28,
   "id": "3c6a2df9",
   "metadata": {},
   "outputs": [],
   "source": [
    "df['date'] = df['date'].astype('datetime64[ns]') #alteração da coluna 'date' para tipo data "
   ]
  },
  {
   "cell_type": "code",
   "execution_count": 29,
   "id": "fbf74ec1",
   "metadata": {},
   "outputs": [
    {
     "data": {
      "text/plain": [
       "year               int64\n",
       "state             object\n",
       "month             object\n",
       "number           float64\n",
       "date      datetime64[ns]\n",
       "dtype: object"
      ]
     },
     "execution_count": 29,
     "metadata": {},
     "output_type": "execute_result"
    }
   ],
   "source": [
    "df.dtypes #verificação "
   ]
  },
  {
   "cell_type": "code",
   "execution_count": 30,
   "id": "540e7188",
   "metadata": {},
   "outputs": [],
   "source": [
    "df.set_index('date', inplace=True) ##substituição do índice pela data para ser possível ordenar por ordem cronológica "
   ]
  },
  {
   "cell_type": "code",
   "execution_count": 31,
   "id": "47032ca9",
   "metadata": {},
   "outputs": [],
   "source": [
    "df = df.sort_values(by='date', ascending = True) #ordenação da tabela por ordem cronológica "
   ]
  },
  {
   "cell_type": "code",
   "execution_count": 32,
   "id": "f4d714c7",
   "metadata": {},
   "outputs": [
    {
     "data": {
      "text/html": [
       "<div>\n",
       "<style scoped>\n",
       "    .dataframe tbody tr th:only-of-type {\n",
       "        vertical-align: middle;\n",
       "    }\n",
       "\n",
       "    .dataframe tbody tr th {\n",
       "        vertical-align: top;\n",
       "    }\n",
       "\n",
       "    .dataframe thead th {\n",
       "        text-align: right;\n",
       "    }\n",
       "</style>\n",
       "<table border=\"1\" class=\"dataframe\">\n",
       "  <thead>\n",
       "    <tr style=\"text-align: right;\">\n",
       "      <th></th>\n",
       "      <th>year</th>\n",
       "      <th>state</th>\n",
       "      <th>month</th>\n",
       "      <th>number</th>\n",
       "    </tr>\n",
       "    <tr>\n",
       "      <th>date</th>\n",
       "      <th></th>\n",
       "      <th></th>\n",
       "      <th></th>\n",
       "      <th></th>\n",
       "    </tr>\n",
       "  </thead>\n",
       "  <tbody>\n",
       "    <tr>\n",
       "      <th>1998-01-01</th>\n",
       "      <td>1998</td>\n",
       "      <td>Bahia</td>\n",
       "      <td>Jan</td>\n",
       "      <td>0.0</td>\n",
       "    </tr>\n",
       "    <tr>\n",
       "      <th>1998-01-01</th>\n",
       "      <td>1998</td>\n",
       "      <td>Goias</td>\n",
       "      <td>Jan</td>\n",
       "      <td>0.0</td>\n",
       "    </tr>\n",
       "    <tr>\n",
       "      <th>1998-01-01</th>\n",
       "      <td>1998</td>\n",
       "      <td>Ceara</td>\n",
       "      <td>Jan</td>\n",
       "      <td>0.0</td>\n",
       "    </tr>\n",
       "    <tr>\n",
       "      <th>1998-01-01</th>\n",
       "      <td>1998</td>\n",
       "      <td>Distrito Federal</td>\n",
       "      <td>Jan</td>\n",
       "      <td>0.0</td>\n",
       "    </tr>\n",
       "    <tr>\n",
       "      <th>1998-01-01</th>\n",
       "      <td>1998</td>\n",
       "      <td>Mato Grosso</td>\n",
       "      <td>Jan</td>\n",
       "      <td>0.0</td>\n",
       "    </tr>\n",
       "    <tr>\n",
       "      <th>...</th>\n",
       "      <td>...</td>\n",
       "      <td>...</td>\n",
       "      <td>...</td>\n",
       "      <td>...</td>\n",
       "    </tr>\n",
       "    <tr>\n",
       "      <th>2017-11-01</th>\n",
       "      <td>2017</td>\n",
       "      <td>Amapa</td>\n",
       "      <td>Nov</td>\n",
       "      <td>858.0</td>\n",
       "    </tr>\n",
       "    <tr>\n",
       "      <th>2017-11-01</th>\n",
       "      <td>2017</td>\n",
       "      <td>Alagoas</td>\n",
       "      <td>Nov</td>\n",
       "      <td>10.0</td>\n",
       "    </tr>\n",
       "    <tr>\n",
       "      <th>2017-11-01</th>\n",
       "      <td>2017</td>\n",
       "      <td>Para</td>\n",
       "      <td>Nov</td>\n",
       "      <td>9079.0</td>\n",
       "    </tr>\n",
       "    <tr>\n",
       "      <th>2017-11-01</th>\n",
       "      <td>2017</td>\n",
       "      <td>Paraiba</td>\n",
       "      <td>Nov</td>\n",
       "      <td>101.0</td>\n",
       "    </tr>\n",
       "    <tr>\n",
       "      <th>2017-11-01</th>\n",
       "      <td>2017</td>\n",
       "      <td>Acre</td>\n",
       "      <td>Nov</td>\n",
       "      <td>98.0</td>\n",
       "    </tr>\n",
       "  </tbody>\n",
       "</table>\n",
       "<p>6302 rows × 4 columns</p>\n",
       "</div>"
      ],
      "text/plain": [
       "            year             state month  number\n",
       "date                                            \n",
       "1998-01-01  1998             Bahia   Jan     0.0\n",
       "1998-01-01  1998             Goias   Jan     0.0\n",
       "1998-01-01  1998             Ceara   Jan     0.0\n",
       "1998-01-01  1998  Distrito Federal   Jan     0.0\n",
       "1998-01-01  1998       Mato Grosso   Jan     0.0\n",
       "...          ...               ...   ...     ...\n",
       "2017-11-01  2017             Amapa   Nov   858.0\n",
       "2017-11-01  2017           Alagoas   Nov    10.0\n",
       "2017-11-01  2017              Para   Nov  9079.0\n",
       "2017-11-01  2017           Paraiba   Nov   101.0\n",
       "2017-11-01  2017              Acre   Nov    98.0\n",
       "\n",
       "[6302 rows x 4 columns]"
      ]
     },
     "execution_count": 32,
     "metadata": {},
     "output_type": "execute_result"
    }
   ],
   "source": [
    "df #verificação "
   ]
  },
  {
   "cell_type": "markdown",
   "id": "b4ddb98d",
   "metadata": {},
   "source": [
    "# Exercise 1 : To check minimum and maximum of ‘year’ column"
   ]
  },
  {
   "cell_type": "code",
   "execution_count": 33,
   "id": "eaf7cfdf",
   "metadata": {},
   "outputs": [
    {
     "data": {
      "text/html": [
       "<div>\n",
       "<style scoped>\n",
       "    .dataframe tbody tr th:only-of-type {\n",
       "        vertical-align: middle;\n",
       "    }\n",
       "\n",
       "    .dataframe tbody tr th {\n",
       "        vertical-align: top;\n",
       "    }\n",
       "\n",
       "    .dataframe thead th {\n",
       "        text-align: right;\n",
       "    }\n",
       "</style>\n",
       "<table border=\"1\" class=\"dataframe\">\n",
       "  <thead>\n",
       "    <tr style=\"text-align: right;\">\n",
       "      <th></th>\n",
       "      <th>year</th>\n",
       "      <th>number</th>\n",
       "    </tr>\n",
       "  </thead>\n",
       "  <tbody>\n",
       "    <tr>\n",
       "      <th>count</th>\n",
       "      <td>6302.000000</td>\n",
       "      <td>6302.000000</td>\n",
       "    </tr>\n",
       "    <tr>\n",
       "      <th>mean</th>\n",
       "      <td>2007.472866</td>\n",
       "      <td>531.795144</td>\n",
       "    </tr>\n",
       "    <tr>\n",
       "      <th>std</th>\n",
       "      <td>5.752539</td>\n",
       "      <td>1570.146650</td>\n",
       "    </tr>\n",
       "    <tr>\n",
       "      <th>min</th>\n",
       "      <td>1998.000000</td>\n",
       "      <td>0.000000</td>\n",
       "    </tr>\n",
       "    <tr>\n",
       "      <th>25%</th>\n",
       "      <td>2002.000000</td>\n",
       "      <td>8.000000</td>\n",
       "    </tr>\n",
       "    <tr>\n",
       "      <th>50%</th>\n",
       "      <td>2007.000000</td>\n",
       "      <td>54.000000</td>\n",
       "    </tr>\n",
       "    <tr>\n",
       "      <th>75%</th>\n",
       "      <td>2012.000000</td>\n",
       "      <td>276.750000</td>\n",
       "    </tr>\n",
       "    <tr>\n",
       "      <th>max</th>\n",
       "      <td>2017.000000</td>\n",
       "      <td>25963.000000</td>\n",
       "    </tr>\n",
       "  </tbody>\n",
       "</table>\n",
       "</div>"
      ],
      "text/plain": [
       "              year        number\n",
       "count  6302.000000   6302.000000\n",
       "mean   2007.472866    531.795144\n",
       "std       5.752539   1570.146650\n",
       "min    1998.000000      0.000000\n",
       "25%    2002.000000      8.000000\n",
       "50%    2007.000000     54.000000\n",
       "75%    2012.000000    276.750000\n",
       "max    2017.000000  25963.000000"
      ]
     },
     "execution_count": 33,
     "metadata": {},
     "output_type": "execute_result"
    }
   ],
   "source": [
    "df.describe()"
   ]
  },
  {
   "cell_type": "markdown",
   "id": "51fecf3f",
   "metadata": {},
   "source": [
    "O mínimo é 1998 e o máximo é 2017. "
   ]
  },
  {
   "cell_type": "markdown",
   "id": "c4bab7e5",
   "metadata": {},
   "source": [
    "# Exercise 2 : To find out total number of fires in ‘ Acre ’ state and visualizing data based on each ‘year’"
   ]
  },
  {
   "cell_type": "code",
   "execution_count": 34,
   "id": "d3643998",
   "metadata": {},
   "outputs": [],
   "source": [
    "df_Acre = df.loc[(df['state']=='Acre')] #criação de dataframe dos incêndios em Acre "
   ]
  },
  {
   "cell_type": "code",
   "execution_count": 35,
   "id": "31bfc732",
   "metadata": {},
   "outputs": [
    {
     "data": {
      "text/html": [
       "<div>\n",
       "<style scoped>\n",
       "    .dataframe tbody tr th:only-of-type {\n",
       "        vertical-align: middle;\n",
       "    }\n",
       "\n",
       "    .dataframe tbody tr th {\n",
       "        vertical-align: top;\n",
       "    }\n",
       "\n",
       "    .dataframe thead th {\n",
       "        text-align: right;\n",
       "    }\n",
       "</style>\n",
       "<table border=\"1\" class=\"dataframe\">\n",
       "  <thead>\n",
       "    <tr style=\"text-align: right;\">\n",
       "      <th></th>\n",
       "      <th>year</th>\n",
       "      <th>state</th>\n",
       "      <th>month</th>\n",
       "      <th>number</th>\n",
       "    </tr>\n",
       "    <tr>\n",
       "      <th>date</th>\n",
       "      <th></th>\n",
       "      <th></th>\n",
       "      <th></th>\n",
       "      <th></th>\n",
       "    </tr>\n",
       "  </thead>\n",
       "  <tbody>\n",
       "    <tr>\n",
       "      <th>1998-01-01</th>\n",
       "      <td>1998</td>\n",
       "      <td>Acre</td>\n",
       "      <td>Jan</td>\n",
       "      <td>0.0</td>\n",
       "    </tr>\n",
       "    <tr>\n",
       "      <th>1998-02-01</th>\n",
       "      <td>1998</td>\n",
       "      <td>Acre</td>\n",
       "      <td>Feb</td>\n",
       "      <td>0.0</td>\n",
       "    </tr>\n",
       "    <tr>\n",
       "      <th>1998-03-01</th>\n",
       "      <td>1998</td>\n",
       "      <td>Acre</td>\n",
       "      <td>Mar</td>\n",
       "      <td>0.0</td>\n",
       "    </tr>\n",
       "    <tr>\n",
       "      <th>1998-04-01</th>\n",
       "      <td>1998</td>\n",
       "      <td>Acre</td>\n",
       "      <td>Apr</td>\n",
       "      <td>0.0</td>\n",
       "    </tr>\n",
       "    <tr>\n",
       "      <th>1998-05-01</th>\n",
       "      <td>1998</td>\n",
       "      <td>Acre</td>\n",
       "      <td>May</td>\n",
       "      <td>0.0</td>\n",
       "    </tr>\n",
       "    <tr>\n",
       "      <th>...</th>\n",
       "      <td>...</td>\n",
       "      <td>...</td>\n",
       "      <td>...</td>\n",
       "      <td>...</td>\n",
       "    </tr>\n",
       "    <tr>\n",
       "      <th>2017-07-01</th>\n",
       "      <td>2017</td>\n",
       "      <td>Acre</td>\n",
       "      <td>Jul</td>\n",
       "      <td>457.0</td>\n",
       "    </tr>\n",
       "    <tr>\n",
       "      <th>2017-08-01</th>\n",
       "      <td>2017</td>\n",
       "      <td>Acre</td>\n",
       "      <td>Aug</td>\n",
       "      <td>1493.0</td>\n",
       "    </tr>\n",
       "    <tr>\n",
       "      <th>2017-09-01</th>\n",
       "      <td>2017</td>\n",
       "      <td>Acre</td>\n",
       "      <td>Sep</td>\n",
       "      <td>3429.0</td>\n",
       "    </tr>\n",
       "    <tr>\n",
       "      <th>2017-10-01</th>\n",
       "      <td>2017</td>\n",
       "      <td>Acre</td>\n",
       "      <td>Oct</td>\n",
       "      <td>1508.0</td>\n",
       "    </tr>\n",
       "    <tr>\n",
       "      <th>2017-11-01</th>\n",
       "      <td>2017</td>\n",
       "      <td>Acre</td>\n",
       "      <td>Nov</td>\n",
       "      <td>98.0</td>\n",
       "    </tr>\n",
       "  </tbody>\n",
       "</table>\n",
       "<p>239 rows × 4 columns</p>\n",
       "</div>"
      ],
      "text/plain": [
       "            year state month  number\n",
       "date                                \n",
       "1998-01-01  1998  Acre   Jan     0.0\n",
       "1998-02-01  1998  Acre   Feb     0.0\n",
       "1998-03-01  1998  Acre   Mar     0.0\n",
       "1998-04-01  1998  Acre   Apr     0.0\n",
       "1998-05-01  1998  Acre   May     0.0\n",
       "...          ...   ...   ...     ...\n",
       "2017-07-01  2017  Acre   Jul   457.0\n",
       "2017-08-01  2017  Acre   Aug  1493.0\n",
       "2017-09-01  2017  Acre   Sep  3429.0\n",
       "2017-10-01  2017  Acre   Oct  1508.0\n",
       "2017-11-01  2017  Acre   Nov    98.0\n",
       "\n",
       "[239 rows x 4 columns]"
      ]
     },
     "execution_count": 35,
     "metadata": {},
     "output_type": "execute_result"
    }
   ],
   "source": [
    "df_Acre"
   ]
  },
  {
   "cell_type": "code",
   "execution_count": 36,
   "id": "d844f9dd",
   "metadata": {},
   "outputs": [
    {
     "name": "stdout",
     "output_type": "stream",
     "text": [
      "O número total de incêndios no estado Acre é 68345.0\n"
     ]
    }
   ],
   "source": [
    "total_number_Acre = df_Acre['number'].sum() \n",
    "print('O número total de incêndios no estado Acre é', total_number_Acre)"
   ]
  },
  {
   "cell_type": "code",
   "execution_count": 37,
   "id": "165b44e1",
   "metadata": {},
   "outputs": [
    {
     "data": {
      "text/html": [
       "<div>\n",
       "<style scoped>\n",
       "    .dataframe tbody tr th:only-of-type {\n",
       "        vertical-align: middle;\n",
       "    }\n",
       "\n",
       "    .dataframe tbody tr th {\n",
       "        vertical-align: top;\n",
       "    }\n",
       "\n",
       "    .dataframe thead th {\n",
       "        text-align: right;\n",
       "    }\n",
       "</style>\n",
       "<table border=\"1\" class=\"dataframe\">\n",
       "  <thead>\n",
       "    <tr style=\"text-align: right;\">\n",
       "      <th></th>\n",
       "      <th>year</th>\n",
       "      <th>number</th>\n",
       "    </tr>\n",
       "  </thead>\n",
       "  <tbody>\n",
       "    <tr>\n",
       "      <th>0</th>\n",
       "      <td>1998</td>\n",
       "      <td>730.0</td>\n",
       "    </tr>\n",
       "    <tr>\n",
       "      <th>1</th>\n",
       "      <td>1999</td>\n",
       "      <td>333.0</td>\n",
       "    </tr>\n",
       "    <tr>\n",
       "      <th>2</th>\n",
       "      <td>2000</td>\n",
       "      <td>434.0</td>\n",
       "    </tr>\n",
       "    <tr>\n",
       "      <th>3</th>\n",
       "      <td>2001</td>\n",
       "      <td>828.0</td>\n",
       "    </tr>\n",
       "    <tr>\n",
       "      <th>4</th>\n",
       "      <td>2002</td>\n",
       "      <td>3491.0</td>\n",
       "    </tr>\n",
       "    <tr>\n",
       "      <th>5</th>\n",
       "      <td>2003</td>\n",
       "      <td>6859.0</td>\n",
       "    </tr>\n",
       "    <tr>\n",
       "      <th>6</th>\n",
       "      <td>2004</td>\n",
       "      <td>3160.0</td>\n",
       "    </tr>\n",
       "    <tr>\n",
       "      <th>7</th>\n",
       "      <td>2005</td>\n",
       "      <td>9427.0</td>\n",
       "    </tr>\n",
       "    <tr>\n",
       "      <th>8</th>\n",
       "      <td>2006</td>\n",
       "      <td>1456.0</td>\n",
       "    </tr>\n",
       "    <tr>\n",
       "      <th>9</th>\n",
       "      <td>2007</td>\n",
       "      <td>1419.0</td>\n",
       "    </tr>\n",
       "    <tr>\n",
       "      <th>10</th>\n",
       "      <td>2008</td>\n",
       "      <td>2808.0</td>\n",
       "    </tr>\n",
       "    <tr>\n",
       "      <th>11</th>\n",
       "      <td>2009</td>\n",
       "      <td>2095.0</td>\n",
       "    </tr>\n",
       "    <tr>\n",
       "      <th>12</th>\n",
       "      <td>2010</td>\n",
       "      <td>4684.0</td>\n",
       "    </tr>\n",
       "    <tr>\n",
       "      <th>13</th>\n",
       "      <td>2011</td>\n",
       "      <td>1912.0</td>\n",
       "    </tr>\n",
       "    <tr>\n",
       "      <th>14</th>\n",
       "      <td>2012</td>\n",
       "      <td>3180.0</td>\n",
       "    </tr>\n",
       "    <tr>\n",
       "      <th>15</th>\n",
       "      <td>2013</td>\n",
       "      <td>3242.0</td>\n",
       "    </tr>\n",
       "    <tr>\n",
       "      <th>16</th>\n",
       "      <td>2014</td>\n",
       "      <td>2740.0</td>\n",
       "    </tr>\n",
       "    <tr>\n",
       "      <th>17</th>\n",
       "      <td>2015</td>\n",
       "      <td>5512.0</td>\n",
       "    </tr>\n",
       "    <tr>\n",
       "      <th>18</th>\n",
       "      <td>2016</td>\n",
       "      <td>6993.0</td>\n",
       "    </tr>\n",
       "    <tr>\n",
       "      <th>19</th>\n",
       "      <td>2017</td>\n",
       "      <td>7042.0</td>\n",
       "    </tr>\n",
       "  </tbody>\n",
       "</table>\n",
       "</div>"
      ],
      "text/plain": [
       "    year  number\n",
       "0   1998   730.0\n",
       "1   1999   333.0\n",
       "2   2000   434.0\n",
       "3   2001   828.0\n",
       "4   2002  3491.0\n",
       "5   2003  6859.0\n",
       "6   2004  3160.0\n",
       "7   2005  9427.0\n",
       "8   2006  1456.0\n",
       "9   2007  1419.0\n",
       "10  2008  2808.0\n",
       "11  2009  2095.0\n",
       "12  2010  4684.0\n",
       "13  2011  1912.0\n",
       "14  2012  3180.0\n",
       "15  2013  3242.0\n",
       "16  2014  2740.0\n",
       "17  2015  5512.0\n",
       "18  2016  6993.0\n",
       "19  2017  7042.0"
      ]
     },
     "execution_count": 37,
     "metadata": {},
     "output_type": "execute_result"
    }
   ],
   "source": [
    "df_Acre.groupby (['year']).sum().reset_index() #agrupar os dados por ano "
   ]
  },
  {
   "cell_type": "code",
   "execution_count": 38,
   "id": "11f874ff",
   "metadata": {},
   "outputs": [
    {
     "data": {
      "text/plain": [
       "Text(0, 0.5, 'Número de incêndios')"
      ]
     },
     "execution_count": 38,
     "metadata": {},
     "output_type": "execute_result"
    },
    {
     "data": {
      "image/png": "[encoded data removed]",
      "text/plain": [
       "<Figure size 792x432 with 1 Axes>"
      ]
     },
     "metadata": {
      "needs_background": "light"
     },
     "output_type": "display_data"
    }
   ],
   "source": [
    "plt.figure(figsize =(11, 6))\n",
    "\n",
    "a = sns.lineplot(y='number', x='year',data= df_Acre.groupby (['year']).sum().reset_index(), color='blue') #visualização dos incêndios no estado de Acre ao longo dos anos\n",
    "\n",
    "plt.title('Incêndios em Acre entre 1998 e 2017')\n",
    "plt.xlabel(\"Ano\")\n",
    "plt.ylabel(\"Número de incêndios\")\n"
   ]
  },
  {
   "cell_type": "markdown",
   "id": "dc925601",
   "metadata": {},
   "source": [
    "O ano 2005 foi o ano com maior número de incêndios - 9427, por oposição ao ano de 1999 com 333 incêndios. "
   ]
  },
  {
   "cell_type": "markdown",
   "id": "438cb867",
   "metadata": {},
   "source": [
    "# Exercise 3 : To find out total number of fires by state"
   ]
  },
  {
   "cell_type": "code",
   "execution_count": 39,
   "id": "6567ae23",
   "metadata": {},
   "outputs": [],
   "source": [
    "df_state = df.groupby('state').sum().reset_index() #agrupar os dados por estado, criação de dataframe df_state"
   ]
  },
  {
   "cell_type": "code",
   "execution_count": 40,
   "id": "c9967a3f",
   "metadata": {},
   "outputs": [
    {
     "data": {
      "text/html": [
       "<div>\n",
       "<style scoped>\n",
       "    .dataframe tbody tr th:only-of-type {\n",
       "        vertical-align: middle;\n",
       "    }\n",
       "\n",
       "    .dataframe tbody tr th {\n",
       "        vertical-align: top;\n",
       "    }\n",
       "\n",
       "    .dataframe thead th {\n",
       "        text-align: right;\n",
       "    }\n",
       "</style>\n",
       "<table border=\"1\" class=\"dataframe\">\n",
       "  <thead>\n",
       "    <tr style=\"text-align: right;\">\n",
       "      <th></th>\n",
       "      <th>state</th>\n",
       "      <th>year</th>\n",
       "      <th>number</th>\n",
       "    </tr>\n",
       "  </thead>\n",
       "  <tbody>\n",
       "    <tr>\n",
       "      <th>0</th>\n",
       "      <td>Acre</td>\n",
       "      <td>479783</td>\n",
       "      <td>68345.0</td>\n",
       "    </tr>\n",
       "    <tr>\n",
       "      <th>1</th>\n",
       "      <td>Alagoas</td>\n",
       "      <td>481800</td>\n",
       "      <td>4675.0</td>\n",
       "    </tr>\n",
       "    <tr>\n",
       "      <th>2</th>\n",
       "      <td>Amapa</td>\n",
       "      <td>479783</td>\n",
       "      <td>25116.0</td>\n",
       "    </tr>\n",
       "    <tr>\n",
       "      <th>3</th>\n",
       "      <td>Amazonas</td>\n",
       "      <td>479783</td>\n",
       "      <td>117467.0</td>\n",
       "    </tr>\n",
       "    <tr>\n",
       "      <th>4</th>\n",
       "      <td>Bahia</td>\n",
       "      <td>479783</td>\n",
       "      <td>226979.0</td>\n",
       "    </tr>\n",
       "  </tbody>\n",
       "</table>\n",
       "</div>"
      ],
      "text/plain": [
       "      state    year    number\n",
       "0      Acre  479783   68345.0\n",
       "1   Alagoas  481800    4675.0\n",
       "2     Amapa  479783   25116.0\n",
       "3  Amazonas  479783  117467.0\n",
       "4     Bahia  479783  226979.0"
      ]
     },
     "execution_count": 40,
     "metadata": {},
     "output_type": "execute_result"
    }
   ],
   "source": [
    "df_state.head()"
   ]
  },
  {
   "cell_type": "code",
   "execution_count": 41,
   "id": "f4624b0c",
   "metadata": {},
   "outputs": [],
   "source": [
    "df_state = df_state.drop(columns=['year']) #eliminação da coluna 'year'"
   ]
  },
  {
   "cell_type": "code",
   "execution_count": 85,
   "id": "0394dd70",
   "metadata": {},
   "outputs": [
    {
     "data": {
      "text/plain": [
       "[Text(0, 0, '68345'),\n",
       " Text(0, 0, '4675'),\n",
       " Text(0, 0, '25116'),\n",
       " Text(0, 0, '117467'),\n",
       " Text(0, 0, '226979'),\n",
       " Text(0, 0, '80162'),\n",
       " Text(0, 0, '3561'),\n",
       " Text(0, 0, '6546'),\n",
       " Text(0, 0, '110963'),\n",
       " Text(0, 0, '375279'),\n",
       " Text(0, 0, '767890'),\n",
       " Text(0, 0, '158188'),\n",
       " Text(0, 0, '577841'),\n",
       " Text(0, 0, '65206'),\n",
       " Text(0, 0, '24498'),\n",
       " Text(0, 0, '178707'),\n",
       " Text(0, 0, '46198'),\n",
       " Text(0, 0, '183814'),\n",
       " Text(0, 0, '27077'),\n",
       " Text(0, 0, '26420'),\n",
       " Text(0, 0, '61299'),\n",
       " Text(0, 0, '2710'),\n",
       " Text(0, 0, '212432')]"
      ]
     },
     "execution_count": 85,
     "metadata": {},
     "output_type": "execute_result"
    },
    {
     "data": {
      "image/png": "[encoded data removed]",
      "text/plain": [
       "<Figure size 792x432 with 1 Axes>"
      ]
     },
     "metadata": {
      "needs_background": "light"
     },
     "output_type": "display_data"
    }
   ],
   "source": [
    "plt.figure(figsize =(11, 6))\n",
    "\n",
    "b = sns.barplot(x='number', y='state',data=df_state, color='blue')\n",
    "\n",
    "plt.title('Número de incêndios por Estado entre 1998 e 2017')\n",
    "plt.xlabel(\"Número\")\n",
    "plt.ylabel(\"Estado\")\n",
    "\n",
    "b.bar_label(b.containers[0])"
   ]
  },
  {
   "cell_type": "markdown",
   "id": "a8b9368d",
   "metadata": {},
   "source": [
    "Verifica-se que Mato Grosso é o estado onde claramente houve maior número de incêndios, seguido pelo Pará e Maranhão. Por outro lado, no Distrito Federal, Alagoas e Espirito Santo houve menor número de incêndios."
   ]
  },
  {
   "cell_type": "markdown",
   "id": "97289ba1",
   "metadata": {},
   "source": [
    "# Exercise 4 :To find out total number of fires in 2010 and visualizing data based on each ‘month’"
   ]
  },
  {
   "cell_type": "code",
   "execution_count": 43,
   "id": "f8795276",
   "metadata": {},
   "outputs": [],
   "source": [
    "df_2010 = df.loc[(df['year']==2010)] #criação de dataframe do ano 2010 "
   ]
  },
  {
   "cell_type": "code",
   "execution_count": 44,
   "id": "38e61fed",
   "metadata": {},
   "outputs": [
    {
     "data": {
      "text/html": [
       "<div>\n",
       "<style scoped>\n",
       "    .dataframe tbody tr th:only-of-type {\n",
       "        vertical-align: middle;\n",
       "    }\n",
       "\n",
       "    .dataframe tbody tr th {\n",
       "        vertical-align: top;\n",
       "    }\n",
       "\n",
       "    .dataframe thead th {\n",
       "        text-align: right;\n",
       "    }\n",
       "</style>\n",
       "<table border=\"1\" class=\"dataframe\">\n",
       "  <thead>\n",
       "    <tr style=\"text-align: right;\">\n",
       "      <th></th>\n",
       "      <th>year</th>\n",
       "      <th>state</th>\n",
       "      <th>month</th>\n",
       "      <th>number</th>\n",
       "    </tr>\n",
       "    <tr>\n",
       "      <th>date</th>\n",
       "      <th></th>\n",
       "      <th></th>\n",
       "      <th></th>\n",
       "      <th></th>\n",
       "    </tr>\n",
       "  </thead>\n",
       "  <tbody>\n",
       "    <tr>\n",
       "      <th>2010-01-01</th>\n",
       "      <td>2010</td>\n",
       "      <td>Bahia</td>\n",
       "      <td>Jan</td>\n",
       "      <td>297.0</td>\n",
       "    </tr>\n",
       "    <tr>\n",
       "      <th>2010-01-01</th>\n",
       "      <td>2010</td>\n",
       "      <td>Sergipe</td>\n",
       "      <td>Jan</td>\n",
       "      <td>29.0</td>\n",
       "    </tr>\n",
       "    <tr>\n",
       "      <th>2010-01-01</th>\n",
       "      <td>2010</td>\n",
       "      <td>Mato Grosso</td>\n",
       "      <td>Jan</td>\n",
       "      <td>298.0</td>\n",
       "    </tr>\n",
       "    <tr>\n",
       "      <th>2010-01-01</th>\n",
       "      <td>2010</td>\n",
       "      <td>Rio</td>\n",
       "      <td>Jan</td>\n",
       "      <td>13.0</td>\n",
       "    </tr>\n",
       "    <tr>\n",
       "      <th>2010-01-01</th>\n",
       "      <td>2010</td>\n",
       "      <td>Rondonia</td>\n",
       "      <td>Jan</td>\n",
       "      <td>18.0</td>\n",
       "    </tr>\n",
       "    <tr>\n",
       "      <th>...</th>\n",
       "      <td>...</td>\n",
       "      <td>...</td>\n",
       "      <td>...</td>\n",
       "      <td>...</td>\n",
       "    </tr>\n",
       "    <tr>\n",
       "      <th>2010-12-01</th>\n",
       "      <td>2010</td>\n",
       "      <td>Distrito Federal</td>\n",
       "      <td>Dec</td>\n",
       "      <td>1.0</td>\n",
       "    </tr>\n",
       "    <tr>\n",
       "      <th>2010-12-01</th>\n",
       "      <td>2010</td>\n",
       "      <td>Acre</td>\n",
       "      <td>Dec</td>\n",
       "      <td>0.0</td>\n",
       "    </tr>\n",
       "    <tr>\n",
       "      <th>2010-12-01</th>\n",
       "      <td>2010</td>\n",
       "      <td>Goias</td>\n",
       "      <td>Dec</td>\n",
       "      <td>0.0</td>\n",
       "    </tr>\n",
       "    <tr>\n",
       "      <th>2010-12-01</th>\n",
       "      <td>2010</td>\n",
       "      <td>Minas Gerais</td>\n",
       "      <td>Dec</td>\n",
       "      <td>105.0</td>\n",
       "    </tr>\n",
       "    <tr>\n",
       "      <th>2010-12-01</th>\n",
       "      <td>2010</td>\n",
       "      <td>Bahia</td>\n",
       "      <td>Dec</td>\n",
       "      <td>226.0</td>\n",
       "    </tr>\n",
       "  </tbody>\n",
       "</table>\n",
       "<p>316 rows × 4 columns</p>\n",
       "</div>"
      ],
      "text/plain": [
       "            year             state month  number\n",
       "date                                            \n",
       "2010-01-01  2010             Bahia   Jan   297.0\n",
       "2010-01-01  2010           Sergipe   Jan    29.0\n",
       "2010-01-01  2010       Mato Grosso   Jan   298.0\n",
       "2010-01-01  2010               Rio   Jan    13.0\n",
       "2010-01-01  2010          Rondonia   Jan    18.0\n",
       "...          ...               ...   ...     ...\n",
       "2010-12-01  2010  Distrito Federal   Dec     1.0\n",
       "2010-12-01  2010              Acre   Dec     0.0\n",
       "2010-12-01  2010             Goias   Dec     0.0\n",
       "2010-12-01  2010      Minas Gerais   Dec   105.0\n",
       "2010-12-01  2010             Bahia   Dec   226.0\n",
       "\n",
       "[316 rows x 4 columns]"
      ]
     },
     "execution_count": 44,
     "metadata": {},
     "output_type": "execute_result"
    }
   ],
   "source": [
    "df_2010"
   ]
  },
  {
   "cell_type": "code",
   "execution_count": 45,
   "id": "5c76ca6d",
   "metadata": {},
   "outputs": [
    {
     "name": "stdout",
     "output_type": "stream",
     "text": [
      "O número total de incêndios em 2010 é igual a 222719.0\n"
     ]
    }
   ],
   "source": [
    "total_number_2010 = df_2010['number'].sum() #número total de incêndios é correspondente ao somatório dos valores registados na coluna number\n",
    "print('O número total de incêndios em 2010 é igual a',total_number_2010)"
   ]
  },
  {
   "cell_type": "code",
   "execution_count": 46,
   "id": "5e4e5f05",
   "metadata": {},
   "outputs": [],
   "source": [
    "df_2010 = df_2010.groupby (['month']).sum().reset_index()  #agrupar df_2010 por mês "
   ]
  },
  {
   "cell_type": "code",
   "execution_count": 47,
   "id": "bc357f06",
   "metadata": {},
   "outputs": [
    {
     "data": {
      "text/plain": [
       "[Text(0, 0, '2882'),\n",
       " Text(0, 0, '2386'),\n",
       " Text(0, 0, '2417'),\n",
       " Text(0, 0, '2200'),\n",
       " Text(0, 0, '3497'),\n",
       " Text(0, 0, '3642'),\n",
       " Text(0, 0, '16646'),\n",
       " Text(0, 0, '58985'),\n",
       " Text(0, 0, '75679'),\n",
       " Text(0, 0, '31485'),\n",
       " Text(0, 0, '16584'),\n",
       " Text(0, 0, '6316')]"
      ]
     },
     "execution_count": 47,
     "metadata": {},
     "output_type": "execute_result"
    },
    {
     "data": {
      "image/png": "[encoded data removed]",
      "text/plain": [
       "<Figure size 792x432 with 1 Axes>"
      ]
     },
     "metadata": {
      "needs_background": "light"
     },
     "output_type": "display_data"
    }
   ],
   "source": [
    "plt.figure(figsize =(11, 6))\n",
    "\n",
    "month = ['Jan', 'Feb', 'Mar', 'Apr', 'May', 'Jun', 'Jul', 'Aug', 'Sep', 'Oct', 'Nov', 'Dec']\n",
    "c = sns.barplot(x='month', y='number',data=df_2010, color='blue', order=month)\n",
    "\n",
    "plt.title('Incêndios no ano 2010')\n",
    "plt.xlabel(\"Meses\")\n",
    "plt.ylabel(\"Número de incêndios\")\n",
    "\n",
    "c.bar_label(c.containers[0])"
   ]
  },
  {
   "cell_type": "markdown",
   "id": "b38902d7",
   "metadata": {},
   "source": [
    "Consegue-se perceber pela visualização deste gráfico que no ano 2010 os meses de Agosto, Setembro e Outubro registaram maior número de incêndios. "
   ]
  },
  {
   "cell_type": "markdown",
   "id": "01f6524c",
   "metadata": {},
   "source": [
    "# Exercise 5 : To find out average number of total fires. (5.1 Only Jan)"
   ]
  },
  {
   "cell_type": "code",
   "execution_count": 48,
   "id": "d5e0b6e5",
   "metadata": {},
   "outputs": [
    {
     "data": {
      "text/html": [
       "<div>\n",
       "<style scoped>\n",
       "    .dataframe tbody tr th:only-of-type {\n",
       "        vertical-align: middle;\n",
       "    }\n",
       "\n",
       "    .dataframe tbody tr th {\n",
       "        vertical-align: top;\n",
       "    }\n",
       "\n",
       "    .dataframe thead th {\n",
       "        text-align: right;\n",
       "    }\n",
       "</style>\n",
       "<table border=\"1\" class=\"dataframe\">\n",
       "  <thead>\n",
       "    <tr style=\"text-align: right;\">\n",
       "      <th></th>\n",
       "      <th>year</th>\n",
       "      <th>number</th>\n",
       "    </tr>\n",
       "  </thead>\n",
       "  <tbody>\n",
       "    <tr>\n",
       "      <th>count</th>\n",
       "      <td>6302.000000</td>\n",
       "      <td>6302.000000</td>\n",
       "    </tr>\n",
       "    <tr>\n",
       "      <th>mean</th>\n",
       "      <td>2007.472866</td>\n",
       "      <td>531.795144</td>\n",
       "    </tr>\n",
       "    <tr>\n",
       "      <th>std</th>\n",
       "      <td>5.752539</td>\n",
       "      <td>1570.146650</td>\n",
       "    </tr>\n",
       "    <tr>\n",
       "      <th>min</th>\n",
       "      <td>1998.000000</td>\n",
       "      <td>0.000000</td>\n",
       "    </tr>\n",
       "    <tr>\n",
       "      <th>25%</th>\n",
       "      <td>2002.000000</td>\n",
       "      <td>8.000000</td>\n",
       "    </tr>\n",
       "    <tr>\n",
       "      <th>50%</th>\n",
       "      <td>2007.000000</td>\n",
       "      <td>54.000000</td>\n",
       "    </tr>\n",
       "    <tr>\n",
       "      <th>75%</th>\n",
       "      <td>2012.000000</td>\n",
       "      <td>276.750000</td>\n",
       "    </tr>\n",
       "    <tr>\n",
       "      <th>max</th>\n",
       "      <td>2017.000000</td>\n",
       "      <td>25963.000000</td>\n",
       "    </tr>\n",
       "  </tbody>\n",
       "</table>\n",
       "</div>"
      ],
      "text/plain": [
       "              year        number\n",
       "count  6302.000000   6302.000000\n",
       "mean   2007.472866    531.795144\n",
       "std       5.752539   1570.146650\n",
       "min    1998.000000      0.000000\n",
       "25%    2002.000000      8.000000\n",
       "50%    2007.000000     54.000000\n",
       "75%    2012.000000    276.750000\n",
       "max    2017.000000  25963.000000"
      ]
     },
     "execution_count": 48,
     "metadata": {},
     "output_type": "execute_result"
    }
   ],
   "source": [
    "df.describe()"
   ]
  },
  {
   "cell_type": "code",
   "execution_count": 49,
   "id": "5b0c7d87",
   "metadata": {},
   "outputs": [
    {
     "name": "stdout",
     "output_type": "stream",
     "text": [
      "A média do número total de incêndios é 531.7951443986036\n"
     ]
    }
   ],
   "source": [
    "average = df['number'].mean()\n",
    "print('A média do número total de incêndios é', average)"
   ]
  },
  {
   "cell_type": "code",
   "execution_count": 50,
   "id": "882559cf",
   "metadata": {},
   "outputs": [],
   "source": [
    "df_jan = df.loc[(df['month']=='Jan')] #criação de dataframe com ocorrências de Janeiro "
   ]
  },
  {
   "cell_type": "code",
   "execution_count": 51,
   "id": "828d8ae8",
   "metadata": {},
   "outputs": [
    {
     "data": {
      "text/html": [
       "<div>\n",
       "<style scoped>\n",
       "    .dataframe tbody tr th:only-of-type {\n",
       "        vertical-align: middle;\n",
       "    }\n",
       "\n",
       "    .dataframe tbody tr th {\n",
       "        vertical-align: top;\n",
       "    }\n",
       "\n",
       "    .dataframe thead th {\n",
       "        text-align: right;\n",
       "    }\n",
       "</style>\n",
       "<table border=\"1\" class=\"dataframe\">\n",
       "  <thead>\n",
       "    <tr style=\"text-align: right;\">\n",
       "      <th></th>\n",
       "      <th>year</th>\n",
       "      <th>number</th>\n",
       "    </tr>\n",
       "  </thead>\n",
       "  <tbody>\n",
       "    <tr>\n",
       "      <th>count</th>\n",
       "      <td>541.000000</td>\n",
       "      <td>541.000000</td>\n",
       "    </tr>\n",
       "    <tr>\n",
       "      <th>mean</th>\n",
       "      <td>2007.517560</td>\n",
       "      <td>97.247689</td>\n",
       "    </tr>\n",
       "    <tr>\n",
       "      <th>std</th>\n",
       "      <td>5.780728</td>\n",
       "      <td>177.242065</td>\n",
       "    </tr>\n",
       "    <tr>\n",
       "      <th>min</th>\n",
       "      <td>1998.000000</td>\n",
       "      <td>0.000000</td>\n",
       "    </tr>\n",
       "    <tr>\n",
       "      <th>25%</th>\n",
       "      <td>2003.000000</td>\n",
       "      <td>10.000000</td>\n",
       "    </tr>\n",
       "    <tr>\n",
       "      <th>50%</th>\n",
       "      <td>2008.000000</td>\n",
       "      <td>38.000000</td>\n",
       "    </tr>\n",
       "    <tr>\n",
       "      <th>75%</th>\n",
       "      <td>2013.000000</td>\n",
       "      <td>106.000000</td>\n",
       "    </tr>\n",
       "    <tr>\n",
       "      <th>max</th>\n",
       "      <td>2017.000000</td>\n",
       "      <td>1768.000000</td>\n",
       "    </tr>\n",
       "  </tbody>\n",
       "</table>\n",
       "</div>"
      ],
      "text/plain": [
       "              year       number\n",
       "count   541.000000   541.000000\n",
       "mean   2007.517560    97.247689\n",
       "std       5.780728   177.242065\n",
       "min    1998.000000     0.000000\n",
       "25%    2003.000000    10.000000\n",
       "50%    2008.000000    38.000000\n",
       "75%    2013.000000   106.000000\n",
       "max    2017.000000  1768.000000"
      ]
     },
     "execution_count": 51,
     "metadata": {},
     "output_type": "execute_result"
    }
   ],
   "source": [
    "df_jan.describe()"
   ]
  },
  {
   "cell_type": "code",
   "execution_count": 52,
   "id": "2d0130e9",
   "metadata": {},
   "outputs": [
    {
     "name": "stdout",
     "output_type": "stream",
     "text": [
      "A média do número total de incêndios é 97.24768946395564\n"
     ]
    }
   ],
   "source": [
    "average_jan = df_jan['number'].mean()\n",
    "print('A média do número total de incêndios é', average_jan)"
   ]
  },
  {
   "cell_type": "markdown",
   "id": "47a586dc",
   "metadata": {},
   "source": [
    "# Exercise 6 : To find out the state names where fires occurred in ‘ Dec’ month"
   ]
  },
  {
   "cell_type": "code",
   "execution_count": 65,
   "id": "9945056e",
   "metadata": {},
   "outputs": [],
   "source": [
    "df_dec = df.loc[(df['month']== 'Dec') & (df['number']!= 0)] #criação de dataframe com ocorrências em Dezembro diferentes de zero"
   ]
  },
  {
   "cell_type": "code",
   "execution_count": 66,
   "id": "64c4c2f6",
   "metadata": {},
   "outputs": [
    {
     "data": {
      "text/html": [
       "<div>\n",
       "<style scoped>\n",
       "    .dataframe tbody tr th:only-of-type {\n",
       "        vertical-align: middle;\n",
       "    }\n",
       "\n",
       "    .dataframe tbody tr th {\n",
       "        vertical-align: top;\n",
       "    }\n",
       "\n",
       "    .dataframe thead th {\n",
       "        text-align: right;\n",
       "    }\n",
       "</style>\n",
       "<table border=\"1\" class=\"dataframe\">\n",
       "  <thead>\n",
       "    <tr style=\"text-align: right;\">\n",
       "      <th></th>\n",
       "      <th>year</th>\n",
       "      <th>state</th>\n",
       "      <th>month</th>\n",
       "      <th>number</th>\n",
       "    </tr>\n",
       "    <tr>\n",
       "      <th>date</th>\n",
       "      <th></th>\n",
       "      <th></th>\n",
       "      <th></th>\n",
       "      <th></th>\n",
       "    </tr>\n",
       "  </thead>\n",
       "  <tbody>\n",
       "    <tr>\n",
       "      <th>1998-12-01</th>\n",
       "      <td>1998</td>\n",
       "      <td>Alagoas</td>\n",
       "      <td>Dec</td>\n",
       "      <td>32.0</td>\n",
       "    </tr>\n",
       "    <tr>\n",
       "      <th>1998-12-01</th>\n",
       "      <td>1998</td>\n",
       "      <td>Acre</td>\n",
       "      <td>Dec</td>\n",
       "      <td>7.0</td>\n",
       "    </tr>\n",
       "    <tr>\n",
       "      <th>1998-12-01</th>\n",
       "      <td>1998</td>\n",
       "      <td>Maranhao</td>\n",
       "      <td>Dec</td>\n",
       "      <td>1399.0</td>\n",
       "    </tr>\n",
       "    <tr>\n",
       "      <th>1998-12-01</th>\n",
       "      <td>1998</td>\n",
       "      <td>Espirito Santo</td>\n",
       "      <td>Dec</td>\n",
       "      <td>5.0</td>\n",
       "    </tr>\n",
       "    <tr>\n",
       "      <th>1998-12-01</th>\n",
       "      <td>1998</td>\n",
       "      <td>Piau</td>\n",
       "      <td>Dec</td>\n",
       "      <td>119.0</td>\n",
       "    </tr>\n",
       "    <tr>\n",
       "      <th>...</th>\n",
       "      <td>...</td>\n",
       "      <td>...</td>\n",
       "      <td>...</td>\n",
       "      <td>...</td>\n",
       "    </tr>\n",
       "    <tr>\n",
       "      <th>2016-12-01</th>\n",
       "      <td>2016</td>\n",
       "      <td>Mato Grosso</td>\n",
       "      <td>Dec</td>\n",
       "      <td>123.0</td>\n",
       "    </tr>\n",
       "    <tr>\n",
       "      <th>2016-12-01</th>\n",
       "      <td>2016</td>\n",
       "      <td>Acre</td>\n",
       "      <td>Dec</td>\n",
       "      <td>6.0</td>\n",
       "    </tr>\n",
       "    <tr>\n",
       "      <th>2016-12-01</th>\n",
       "      <td>2016</td>\n",
       "      <td>Amazonas</td>\n",
       "      <td>Dec</td>\n",
       "      <td>133.0</td>\n",
       "    </tr>\n",
       "    <tr>\n",
       "      <th>2016-12-01</th>\n",
       "      <td>2016</td>\n",
       "      <td>Espirito Santo</td>\n",
       "      <td>Dec</td>\n",
       "      <td>12.0</td>\n",
       "    </tr>\n",
       "    <tr>\n",
       "      <th>2016-12-01</th>\n",
       "      <td>2016</td>\n",
       "      <td>Maranhao</td>\n",
       "      <td>Dec</td>\n",
       "      <td>1577.0</td>\n",
       "    </tr>\n",
       "  </tbody>\n",
       "</table>\n",
       "<p>317 rows × 4 columns</p>\n",
       "</div>"
      ],
      "text/plain": [
       "            year           state month  number\n",
       "date                                          \n",
       "1998-12-01  1998         Alagoas   Dec    32.0\n",
       "1998-12-01  1998            Acre   Dec     7.0\n",
       "1998-12-01  1998        Maranhao   Dec  1399.0\n",
       "1998-12-01  1998  Espirito Santo   Dec     5.0\n",
       "1998-12-01  1998            Piau   Dec   119.0\n",
       "...          ...             ...   ...     ...\n",
       "2016-12-01  2016     Mato Grosso   Dec   123.0\n",
       "2016-12-01  2016            Acre   Dec     6.0\n",
       "2016-12-01  2016        Amazonas   Dec   133.0\n",
       "2016-12-01  2016  Espirito Santo   Dec    12.0\n",
       "2016-12-01  2016        Maranhao   Dec  1577.0\n",
       "\n",
       "[317 rows x 4 columns]"
      ]
     },
     "execution_count": 66,
     "metadata": {},
     "output_type": "execute_result"
    }
   ],
   "source": [
    "df_dec"
   ]
  },
  {
   "cell_type": "code",
   "execution_count": 67,
   "id": "a8ce4f98",
   "metadata": {},
   "outputs": [
    {
     "name": "stdout",
     "output_type": "stream",
     "text": [
      "Os estados onde ocorreram incêndios em Dezembro são ['Alagoas' 'Acre' 'Maranhao' 'Espirito Santo' 'Piau' 'Ceara' 'Paraiba'\n",
      " 'Tocantins' 'Amapa' 'Amazonas' 'Mato Grosso' 'Pernambuco' 'Bahia'\n",
      " 'Minas Gerais' 'Para' 'Distrito Federal']\n"
     ]
    }
   ],
   "source": [
    "states = df_dec['state'].unique() \n",
    "print('Os estados onde ocorreram incêndios em Dezembro são', states)"
   ]
  },
  {
   "cell_type": "code",
   "execution_count": 84,
   "id": "729f3e4e",
   "metadata": {},
   "outputs": [
    {
     "data": {
      "text/plain": [
       "[Text(0, 0, '44244'),\n",
       " Text(0, 0, '30615'),\n",
       " Text(0, 0, '21193'),\n",
       " Text(0, 0, '13362'),\n",
       " Text(0, 0, '7030'),\n",
       " Text(0, 0, '5966'),\n",
       " Text(0, 0, '4504'),\n",
       " Text(0, 0, '4222'),\n",
       " Text(0, 0, '3340'),\n",
       " Text(0, 0, '2224'),\n",
       " Text(0, 0, '1998'),\n",
       " Text(0, 0, '1549'),\n",
       " Text(0, 0, '964'),\n",
       " Text(0, 0, '239'),\n",
       " Text(0, 0, '47'),\n",
       " Text(0, 0, '5')]"
      ]
     },
     "execution_count": 84,
     "metadata": {},
     "output_type": "execute_result"
    },
    {
     "data": {
      "image/png": "[encoded data removed]",
      "text/plain": [
       "<Figure size 1080x1080 with 1 Axes>"
      ]
     },
     "metadata": {
      "needs_background": "light"
     },
     "output_type": "display_data"
    }
   ],
   "source": [
    "plt.figure(figsize =(15, 15))\n",
    "\n",
    "d = sns.barplot(x='number', y='state',data = df_dec.groupby('state').sum().reset_index().sort_values(by='number', ascending = False), color='blue')\n",
    "\n",
    "plt.title('Incêndios ocorridos em Dezembro')\n",
    "plt.xlabel(\"Estados\")\n",
    "plt.ylabel(\"Número de incêndios\")\n",
    "\n",
    "d.bar_label(d.containers[0])"
   ]
  },
  {
   "cell_type": "markdown",
   "id": "8a265100",
   "metadata": {},
   "source": [
    "Pelo gráfico percebemos que no mês de Dezembro, os estados com maior número de incêndios são o Pará, Maranhão e Ceara. "
   ]
  },
  {
   "cell_type": "markdown",
   "id": "acac844c",
   "metadata": {},
   "source": [
    "# Visualização do número total de incêndios por mês "
   ]
  },
  {
   "cell_type": "code",
   "execution_count": 86,
   "id": "219c3526",
   "metadata": {},
   "outputs": [],
   "source": [
    "df_month = df.groupby (['month']).sum().reset_index()  #agrupar dados por mês "
   ]
  },
  {
   "cell_type": "code",
   "execution_count": 87,
   "id": "4bf07008",
   "metadata": {},
   "outputs": [
    {
     "data": {
      "text/plain": [
       "[Text(0, 0, '52611'),\n",
       " Text(0, 0, '30895'),\n",
       " Text(0, 0, '35105'),\n",
       " Text(0, 0, '28352'),\n",
       " Text(0, 0, '45986'),\n",
       " Text(0, 0, '111155'),\n",
       " Text(0, 0, '216873'),\n",
       " Text(0, 0, '738153'),\n",
       " Text(0, 0, '1.01e+06'),\n",
       " Text(0, 0, '628513'),\n",
       " Text(0, 0, '312227'),\n",
       " Text(0, 0, '141502')]"
      ]
     },
     "execution_count": 87,
     "metadata": {},
     "output_type": "execute_result"
    },
    {
     "data": {
      "image/png": "[encoded data removed]",
      "text/plain": [
       "<Figure size 792x432 with 1 Axes>"
      ]
     },
     "metadata": {
      "needs_background": "light"
     },
     "output_type": "display_data"
    }
   ],
   "source": [
    "plt.figure(figsize =(11, 6))\n",
    "\n",
    "month = ['Jan', 'Feb', 'Mar', 'Apr', 'May', 'Jun', 'Jul', 'Aug', 'Sep', 'Oct', 'Nov', 'Dec']\n",
    "e = sns.barplot(x='month', y='number',data=df_month, color='blue', order=month)\n",
    "\n",
    "plt.title('Incêndios ocorridos entre 1998 e 2017')\n",
    "plt.xlabel(\"Meses\")\n",
    "plt.ylabel(\"Número de incêndios\")\n",
    "\n",
    "e.bar_label(e.containers[0])"
   ]
  },
  {
   "cell_type": "markdown",
   "id": "a3901263",
   "metadata": {},
   "source": [
    "Verifica-se que os incêndios ocorrem em maior número em 3 meses seguidos do ano - Agosto, Setembro e Outubro, estranhamente no Inverno que começa em Junho e termina em Setembro e ainda o primeiro mês da Primavera. "
   ]
  },
  {
   "cell_type": "markdown",
   "id": "08e860fe",
   "metadata": {},
   "source": [
    "# Extra: From an EDA perspective what analysis would you add?"
   ]
  },
  {
   "cell_type": "markdown",
   "id": "7cfa46f7",
   "metadata": {},
   "source": [
    "Feito ao longo do exercício:\n",
    "a) eliminação de nulos através da sua substituição pela mediana\n",
    "b) eliminação de outlier através da sua substituição pela mediana \n",
    "c) transformação de dados para criar uma coluna datatipe por forma a conseguir ordenar por data  \n",
    "d) remoção de colunas redundantes para o objetivo da questão\n",
    "e) acrescentei a análise dos incêndios por mês para nos dar uma ideia de quando ocorrem mais incêndios no Brasil ao longo do ano. Estranhamente é na estação mais fria do ano. "
   ]
  },
  {
   "cell_type": "code",
   "execution_count": null,
   "id": "996c567d",
   "metadata": {},
   "outputs": [],
   "source": []
  }
 ],
 "metadata": {
  "kernelspec": {
   "display_name": "Python 3 (ipykernel)",
   "language": "python",
   "name": "python3"
  },
  "language_info": {
   "codemirror_mode": {
    "name": "ipython",
    "version": 3
   },
   "file_extension": ".py",
   "mimetype": "text/x-python",
   "name": "python",
   "nbconvert_exporter": "python",
   "pygments_lexer": "ipython3",
   "version": "3.9.12"
  }
 },
 "nbformat": 4,
 "nbformat_minor": 5
}
